{
 "cells": [
  {
   "cell_type": "code",
   "execution_count": 3,
   "metadata": {
    "colab": {
     "base_uri": "https://localhost:8080/",
     "height": 444
    },
    "id": "mnRB_a7f88pj",
    "outputId": "e5089fc0-229c-44c5-9fc1-ac0631292bcc"
   },
   "outputs": [
    {
     "data": {
      "text/html": [
       "<div>\n",
       "<style scoped>\n",
       "    .dataframe tbody tr th:only-of-type {\n",
       "        vertical-align: middle;\n",
       "    }\n",
       "\n",
       "    .dataframe tbody tr th {\n",
       "        vertical-align: top;\n",
       "    }\n",
       "\n",
       "    .dataframe thead th {\n",
       "        text-align: right;\n",
       "    }\n",
       "</style>\n",
       "<table border=\"1\" class=\"dataframe\">\n",
       "  <thead>\n",
       "    <tr style=\"text-align: right;\">\n",
       "      <th></th>\n",
       "      <th>Name</th>\n",
       "      <th>Location</th>\n",
       "      <th>Year</th>\n",
       "      <th>Kilometers_Driven</th>\n",
       "      <th>Fuel_Type</th>\n",
       "      <th>Transmission</th>\n",
       "      <th>Owner_Type</th>\n",
       "      <th>Mileage</th>\n",
       "      <th>Engine</th>\n",
       "      <th>Power</th>\n",
       "      <th>Seats</th>\n",
       "      <th>New_Price</th>\n",
       "      <th>Price</th>\n",
       "    </tr>\n",
       "  </thead>\n",
       "  <tbody>\n",
       "    <tr>\n",
       "      <th>0</th>\n",
       "      <td>Maruti Wagon R LXI CNG</td>\n",
       "      <td>Mumbai</td>\n",
       "      <td>2010</td>\n",
       "      <td>72000</td>\n",
       "      <td>CNG</td>\n",
       "      <td>Manual</td>\n",
       "      <td>First</td>\n",
       "      <td>26.6 km/kg</td>\n",
       "      <td>998 CC</td>\n",
       "      <td>58.16 bhp</td>\n",
       "      <td>5.0</td>\n",
       "      <td>NaN</td>\n",
       "      <td>1.75</td>\n",
       "    </tr>\n",
       "    <tr>\n",
       "      <th>1</th>\n",
       "      <td>Hyundai Creta 1.6 CRDi SX Option</td>\n",
       "      <td>Pune</td>\n",
       "      <td>2015</td>\n",
       "      <td>41000</td>\n",
       "      <td>Diesel</td>\n",
       "      <td>Manual</td>\n",
       "      <td>First</td>\n",
       "      <td>19.67 kmpl</td>\n",
       "      <td>1582 CC</td>\n",
       "      <td>126.2 bhp</td>\n",
       "      <td>5.0</td>\n",
       "      <td>NaN</td>\n",
       "      <td>12.50</td>\n",
       "    </tr>\n",
       "    <tr>\n",
       "      <th>2</th>\n",
       "      <td>Honda Jazz V</td>\n",
       "      <td>Chennai</td>\n",
       "      <td>2011</td>\n",
       "      <td>46000</td>\n",
       "      <td>Petrol</td>\n",
       "      <td>Manual</td>\n",
       "      <td>First</td>\n",
       "      <td>18.2 kmpl</td>\n",
       "      <td>1199 CC</td>\n",
       "      <td>88.7 bhp</td>\n",
       "      <td>5.0</td>\n",
       "      <td>8.61 Lakh</td>\n",
       "      <td>4.50</td>\n",
       "    </tr>\n",
       "    <tr>\n",
       "      <th>3</th>\n",
       "      <td>Maruti Ertiga VDI</td>\n",
       "      <td>Chennai</td>\n",
       "      <td>2012</td>\n",
       "      <td>87000</td>\n",
       "      <td>Diesel</td>\n",
       "      <td>Manual</td>\n",
       "      <td>First</td>\n",
       "      <td>20.77 kmpl</td>\n",
       "      <td>1248 CC</td>\n",
       "      <td>88.76 bhp</td>\n",
       "      <td>7.0</td>\n",
       "      <td>NaN</td>\n",
       "      <td>6.00</td>\n",
       "    </tr>\n",
       "    <tr>\n",
       "      <th>4</th>\n",
       "      <td>Audi A4 New 2.0 TDI Multitronic</td>\n",
       "      <td>Coimbatore</td>\n",
       "      <td>2013</td>\n",
       "      <td>40670</td>\n",
       "      <td>Diesel</td>\n",
       "      <td>Automatic</td>\n",
       "      <td>Second</td>\n",
       "      <td>15.2 kmpl</td>\n",
       "      <td>1968 CC</td>\n",
       "      <td>140.8 bhp</td>\n",
       "      <td>5.0</td>\n",
       "      <td>NaN</td>\n",
       "      <td>17.74</td>\n",
       "    </tr>\n",
       "  </tbody>\n",
       "</table>\n",
       "</div>"
      ],
      "text/plain": [
       "                               Name    Location  Year  Kilometers_Driven  \\\n",
       "0            Maruti Wagon R LXI CNG      Mumbai  2010              72000   \n",
       "1  Hyundai Creta 1.6 CRDi SX Option        Pune  2015              41000   \n",
       "2                      Honda Jazz V     Chennai  2011              46000   \n",
       "3                 Maruti Ertiga VDI     Chennai  2012              87000   \n",
       "4   Audi A4 New 2.0 TDI Multitronic  Coimbatore  2013              40670   \n",
       "\n",
       "  Fuel_Type Transmission Owner_Type     Mileage   Engine      Power  Seats  \\\n",
       "0       CNG       Manual      First  26.6 km/kg   998 CC  58.16 bhp    5.0   \n",
       "1    Diesel       Manual      First  19.67 kmpl  1582 CC  126.2 bhp    5.0   \n",
       "2    Petrol       Manual      First   18.2 kmpl  1199 CC   88.7 bhp    5.0   \n",
       "3    Diesel       Manual      First  20.77 kmpl  1248 CC  88.76 bhp    7.0   \n",
       "4    Diesel    Automatic     Second   15.2 kmpl  1968 CC  140.8 bhp    5.0   \n",
       "\n",
       "   New_Price  Price  \n",
       "0        NaN   1.75  \n",
       "1        NaN  12.50  \n",
       "2  8.61 Lakh   4.50  \n",
       "3        NaN   6.00  \n",
       "4        NaN  17.74  "
      ]
     },
     "execution_count": 3,
     "metadata": {},
     "output_type": "execute_result"
    }
   ],
   "source": [
    "import pandas as pd\n",
    "df = pd.read_csv('/Users/Bindhu sri/Downloads/train-data.csv',index_col=0)\n",
    "df.head()"
   ]
  },
  {
   "cell_type": "code",
   "execution_count": 5,
   "metadata": {
    "colab": {
     "base_uri": "https://localhost:8080/"
    },
    "id": "Y5o0CevX7eG0",
    "outputId": "ba9e7db2-48e1-407f-d808-158b1ed4d3e1"
   },
   "outputs": [
    {
     "data": {
      "text/plain": [
       "Name                  object\n",
       "Location              object\n",
       "Year                   int64\n",
       "Kilometers_Driven      int64\n",
       "Fuel_Type             object\n",
       "Transmission          object\n",
       "Owner_Type            object\n",
       "Mileage               object\n",
       "Engine                object\n",
       "Power                 object\n",
       "Seats                float64\n",
       "New_Price             object\n",
       "Price                float64\n",
       "dtype: object"
      ]
     },
     "execution_count": 5,
     "metadata": {},
     "output_type": "execute_result"
    }
   ],
   "source": [
    "df.dtypes"
   ]
  },
  {
   "cell_type": "code",
   "execution_count": 6,
   "metadata": {
    "colab": {
     "base_uri": "https://localhost:8080/"
    },
    "id": "umSdej7qAxLk",
    "outputId": "b7cbbac7-17d5-4042-b337-7d81640cdb6f"
   },
   "outputs": [
    {
     "data": {
      "text/plain": [
       "Name                    0\n",
       "Location                0\n",
       "Year                    0\n",
       "Kilometers_Driven       0\n",
       "Fuel_Type               0\n",
       "Transmission            0\n",
       "Owner_Type              0\n",
       "Mileage                 2\n",
       "Engine                 36\n",
       "Power                  36\n",
       "Seats                  42\n",
       "New_Price            5195\n",
       "Price                   0\n",
       "dtype: int64"
      ]
     },
     "execution_count": 6,
     "metadata": {},
     "output_type": "execute_result"
    }
   ],
   "source": [
    "df.isnull().sum()"
   ]
  },
  {
   "cell_type": "code",
   "execution_count": 7,
   "metadata": {
    "colab": {
     "base_uri": "https://localhost:8080/"
    },
    "id": "PqAUTtf2-Xo6",
    "outputId": "d850c3a3-fd79-419b-92a7-d805c3a97020"
   },
   "outputs": [
    {
     "data": {
      "text/plain": [
       "0       26.6 km/kg\n",
       "1       19.67 kmpl\n",
       "2        18.2 kmpl\n",
       "3       20.77 kmpl\n",
       "4        15.2 kmpl\n",
       "           ...    \n",
       "6014     28.4 kmpl\n",
       "6015     24.4 kmpl\n",
       "6016     14.0 kmpl\n",
       "6017     18.9 kmpl\n",
       "6018    25.44 kmpl\n",
       "Name: Mileage, Length: 6019, dtype: object"
      ]
     },
     "execution_count": 7,
     "metadata": {},
     "output_type": "execute_result"
    }
   ],
   "source": [
    "df['Mileage']"
   ]
  },
  {
   "cell_type": "code",
   "execution_count": 8,
   "metadata": {
    "colab": {
     "base_uri": "https://localhost:8080/"
    },
    "id": "CS87eRmO-kzV",
    "outputId": "bffae193-e0ce-4963-f0d8-b9f7a76fc290"
   },
   "outputs": [
    {
     "data": {
      "text/plain": [
       "26.6"
      ]
     },
     "execution_count": 8,
     "metadata": {},
     "output_type": "execute_result"
    }
   ],
   "source": [
    "k = \"26.6 km/kg\"\n",
    "float(k.split(' ')[0])"
   ]
  },
  {
   "cell_type": "code",
   "execution_count": 9,
   "metadata": {
    "id": "T6Ab3662_D7j"
   },
   "outputs": [],
   "source": [
    "def numerical(value):\n",
    "  try:\n",
    "    return float(value.split(' ')[0])\n",
    "  except:\n",
    "    return value"
   ]
  },
  {
   "cell_type": "code",
   "execution_count": 10,
   "metadata": {
    "id": "W-i2ddiLAAWS"
   },
   "outputs": [],
   "source": [
    "df['Mileage'] = df['Mileage'].apply(numerical)"
   ]
  },
  {
   "cell_type": "code",
   "execution_count": 11,
   "metadata": {
    "colab": {
     "base_uri": "https://localhost:8080/"
    },
    "id": "BBUo1vA6AFZ8",
    "outputId": "93012dae-3849-4d4b-bda6-a27c3c3d35f2"
   },
   "outputs": [
    {
     "data": {
      "text/plain": [
       "Name                  object\n",
       "Location              object\n",
       "Year                   int64\n",
       "Kilometers_Driven      int64\n",
       "Fuel_Type             object\n",
       "Transmission          object\n",
       "Owner_Type            object\n",
       "Mileage              float64\n",
       "Engine                object\n",
       "Power                 object\n",
       "Seats                float64\n",
       "New_Price             object\n",
       "Price                float64\n",
       "dtype: object"
      ]
     },
     "execution_count": 11,
     "metadata": {},
     "output_type": "execute_result"
    }
   ],
   "source": [
    "df.dtypes"
   ]
  },
  {
   "cell_type": "code",
   "execution_count": 12,
   "metadata": {
    "colab": {
     "base_uri": "https://localhost:8080/",
     "height": 444
    },
    "id": "66zQh15qBScQ",
    "outputId": "e2f7796e-f18b-4659-e710-78a501f41a10"
   },
   "outputs": [
    {
     "data": {
      "text/html": [
       "<div>\n",
       "<style scoped>\n",
       "    .dataframe tbody tr th:only-of-type {\n",
       "        vertical-align: middle;\n",
       "    }\n",
       "\n",
       "    .dataframe tbody tr th {\n",
       "        vertical-align: top;\n",
       "    }\n",
       "\n",
       "    .dataframe thead th {\n",
       "        text-align: right;\n",
       "    }\n",
       "</style>\n",
       "<table border=\"1\" class=\"dataframe\">\n",
       "  <thead>\n",
       "    <tr style=\"text-align: right;\">\n",
       "      <th></th>\n",
       "      <th>Name</th>\n",
       "      <th>Location</th>\n",
       "      <th>Year</th>\n",
       "      <th>Kilometers_Driven</th>\n",
       "      <th>Fuel_Type</th>\n",
       "      <th>Transmission</th>\n",
       "      <th>Owner_Type</th>\n",
       "      <th>Mileage</th>\n",
       "      <th>Engine</th>\n",
       "      <th>Power</th>\n",
       "      <th>Seats</th>\n",
       "      <th>New_Price</th>\n",
       "      <th>Price</th>\n",
       "    </tr>\n",
       "  </thead>\n",
       "  <tbody>\n",
       "    <tr>\n",
       "      <th>0</th>\n",
       "      <td>Maruti Wagon R LXI CNG</td>\n",
       "      <td>Mumbai</td>\n",
       "      <td>2010</td>\n",
       "      <td>72000</td>\n",
       "      <td>CNG</td>\n",
       "      <td>Manual</td>\n",
       "      <td>First</td>\n",
       "      <td>26.60</td>\n",
       "      <td>998 CC</td>\n",
       "      <td>58.16 bhp</td>\n",
       "      <td>5.0</td>\n",
       "      <td>NaN</td>\n",
       "      <td>1.75</td>\n",
       "    </tr>\n",
       "    <tr>\n",
       "      <th>1</th>\n",
       "      <td>Hyundai Creta 1.6 CRDi SX Option</td>\n",
       "      <td>Pune</td>\n",
       "      <td>2015</td>\n",
       "      <td>41000</td>\n",
       "      <td>Diesel</td>\n",
       "      <td>Manual</td>\n",
       "      <td>First</td>\n",
       "      <td>19.67</td>\n",
       "      <td>1582 CC</td>\n",
       "      <td>126.2 bhp</td>\n",
       "      <td>5.0</td>\n",
       "      <td>NaN</td>\n",
       "      <td>12.50</td>\n",
       "    </tr>\n",
       "    <tr>\n",
       "      <th>2</th>\n",
       "      <td>Honda Jazz V</td>\n",
       "      <td>Chennai</td>\n",
       "      <td>2011</td>\n",
       "      <td>46000</td>\n",
       "      <td>Petrol</td>\n",
       "      <td>Manual</td>\n",
       "      <td>First</td>\n",
       "      <td>18.20</td>\n",
       "      <td>1199 CC</td>\n",
       "      <td>88.7 bhp</td>\n",
       "      <td>5.0</td>\n",
       "      <td>8.61 Lakh</td>\n",
       "      <td>4.50</td>\n",
       "    </tr>\n",
       "    <tr>\n",
       "      <th>3</th>\n",
       "      <td>Maruti Ertiga VDI</td>\n",
       "      <td>Chennai</td>\n",
       "      <td>2012</td>\n",
       "      <td>87000</td>\n",
       "      <td>Diesel</td>\n",
       "      <td>Manual</td>\n",
       "      <td>First</td>\n",
       "      <td>20.77</td>\n",
       "      <td>1248 CC</td>\n",
       "      <td>88.76 bhp</td>\n",
       "      <td>7.0</td>\n",
       "      <td>NaN</td>\n",
       "      <td>6.00</td>\n",
       "    </tr>\n",
       "    <tr>\n",
       "      <th>4</th>\n",
       "      <td>Audi A4 New 2.0 TDI Multitronic</td>\n",
       "      <td>Coimbatore</td>\n",
       "      <td>2013</td>\n",
       "      <td>40670</td>\n",
       "      <td>Diesel</td>\n",
       "      <td>Automatic</td>\n",
       "      <td>Second</td>\n",
       "      <td>15.20</td>\n",
       "      <td>1968 CC</td>\n",
       "      <td>140.8 bhp</td>\n",
       "      <td>5.0</td>\n",
       "      <td>NaN</td>\n",
       "      <td>17.74</td>\n",
       "    </tr>\n",
       "  </tbody>\n",
       "</table>\n",
       "</div>"
      ],
      "text/plain": [
       "                               Name    Location  Year  Kilometers_Driven  \\\n",
       "0            Maruti Wagon R LXI CNG      Mumbai  2010              72000   \n",
       "1  Hyundai Creta 1.6 CRDi SX Option        Pune  2015              41000   \n",
       "2                      Honda Jazz V     Chennai  2011              46000   \n",
       "3                 Maruti Ertiga VDI     Chennai  2012              87000   \n",
       "4   Audi A4 New 2.0 TDI Multitronic  Coimbatore  2013              40670   \n",
       "\n",
       "  Fuel_Type Transmission Owner_Type  Mileage   Engine      Power  Seats  \\\n",
       "0       CNG       Manual      First    26.60   998 CC  58.16 bhp    5.0   \n",
       "1    Diesel       Manual      First    19.67  1582 CC  126.2 bhp    5.0   \n",
       "2    Petrol       Manual      First    18.20  1199 CC   88.7 bhp    5.0   \n",
       "3    Diesel       Manual      First    20.77  1248 CC  88.76 bhp    7.0   \n",
       "4    Diesel    Automatic     Second    15.20  1968 CC  140.8 bhp    5.0   \n",
       "\n",
       "   New_Price  Price  \n",
       "0        NaN   1.75  \n",
       "1        NaN  12.50  \n",
       "2  8.61 Lakh   4.50  \n",
       "3        NaN   6.00  \n",
       "4        NaN  17.74  "
      ]
     },
     "execution_count": 12,
     "metadata": {},
     "output_type": "execute_result"
    }
   ],
   "source": [
    "df.head()"
   ]
  },
  {
   "cell_type": "code",
   "execution_count": 13,
   "metadata": {
    "id": "5s7RdguRBVw1"
   },
   "outputs": [],
   "source": [
    "df['Engine'] = df['Engine'].apply(numerical)\n",
    "df['Power'] = df['Power'].apply(numerical)"
   ]
  },
  {
   "cell_type": "code",
   "execution_count": 14,
   "metadata": {
    "colab": {
     "base_uri": "https://localhost:8080/"
    },
    "id": "ZICAWIxTBn_l",
    "outputId": "d52bee36-3a35-4bdc-9e64-e6d871637ac5"
   },
   "outputs": [
    {
     "data": {
      "text/plain": [
       "Name                  object\n",
       "Location              object\n",
       "Year                   int64\n",
       "Kilometers_Driven      int64\n",
       "Fuel_Type             object\n",
       "Transmission          object\n",
       "Owner_Type            object\n",
       "Mileage              float64\n",
       "Engine               float64\n",
       "Power                 object\n",
       "Seats                float64\n",
       "New_Price             object\n",
       "Price                float64\n",
       "dtype: object"
      ]
     },
     "execution_count": 14,
     "metadata": {},
     "output_type": "execute_result"
    }
   ],
   "source": [
    "df.dtypes"
   ]
  },
  {
   "cell_type": "code",
   "execution_count": 15,
   "metadata": {
    "colab": {
     "base_uri": "https://localhost:8080/",
     "height": 444
    },
    "id": "UF__LuNKB1rt",
    "outputId": "8f2cb297-a11b-49ad-98e3-de55d18a7bcd"
   },
   "outputs": [
    {
     "data": {
      "text/html": [
       "<div>\n",
       "<style scoped>\n",
       "    .dataframe tbody tr th:only-of-type {\n",
       "        vertical-align: middle;\n",
       "    }\n",
       "\n",
       "    .dataframe tbody tr th {\n",
       "        vertical-align: top;\n",
       "    }\n",
       "\n",
       "    .dataframe thead th {\n",
       "        text-align: right;\n",
       "    }\n",
       "</style>\n",
       "<table border=\"1\" class=\"dataframe\">\n",
       "  <thead>\n",
       "    <tr style=\"text-align: right;\">\n",
       "      <th></th>\n",
       "      <th>Name</th>\n",
       "      <th>Location</th>\n",
       "      <th>Year</th>\n",
       "      <th>Kilometers_Driven</th>\n",
       "      <th>Fuel_Type</th>\n",
       "      <th>Transmission</th>\n",
       "      <th>Owner_Type</th>\n",
       "      <th>Mileage</th>\n",
       "      <th>Engine</th>\n",
       "      <th>Power</th>\n",
       "      <th>Seats</th>\n",
       "      <th>New_Price</th>\n",
       "      <th>Price</th>\n",
       "    </tr>\n",
       "  </thead>\n",
       "  <tbody>\n",
       "    <tr>\n",
       "      <th>0</th>\n",
       "      <td>Maruti Wagon R LXI CNG</td>\n",
       "      <td>Mumbai</td>\n",
       "      <td>2010</td>\n",
       "      <td>72000</td>\n",
       "      <td>CNG</td>\n",
       "      <td>Manual</td>\n",
       "      <td>First</td>\n",
       "      <td>26.60</td>\n",
       "      <td>998.0</td>\n",
       "      <td>58.16</td>\n",
       "      <td>5.0</td>\n",
       "      <td>NaN</td>\n",
       "      <td>1.75</td>\n",
       "    </tr>\n",
       "    <tr>\n",
       "      <th>1</th>\n",
       "      <td>Hyundai Creta 1.6 CRDi SX Option</td>\n",
       "      <td>Pune</td>\n",
       "      <td>2015</td>\n",
       "      <td>41000</td>\n",
       "      <td>Diesel</td>\n",
       "      <td>Manual</td>\n",
       "      <td>First</td>\n",
       "      <td>19.67</td>\n",
       "      <td>1582.0</td>\n",
       "      <td>126.2</td>\n",
       "      <td>5.0</td>\n",
       "      <td>NaN</td>\n",
       "      <td>12.50</td>\n",
       "    </tr>\n",
       "    <tr>\n",
       "      <th>2</th>\n",
       "      <td>Honda Jazz V</td>\n",
       "      <td>Chennai</td>\n",
       "      <td>2011</td>\n",
       "      <td>46000</td>\n",
       "      <td>Petrol</td>\n",
       "      <td>Manual</td>\n",
       "      <td>First</td>\n",
       "      <td>18.20</td>\n",
       "      <td>1199.0</td>\n",
       "      <td>88.7</td>\n",
       "      <td>5.0</td>\n",
       "      <td>8.61 Lakh</td>\n",
       "      <td>4.50</td>\n",
       "    </tr>\n",
       "    <tr>\n",
       "      <th>3</th>\n",
       "      <td>Maruti Ertiga VDI</td>\n",
       "      <td>Chennai</td>\n",
       "      <td>2012</td>\n",
       "      <td>87000</td>\n",
       "      <td>Diesel</td>\n",
       "      <td>Manual</td>\n",
       "      <td>First</td>\n",
       "      <td>20.77</td>\n",
       "      <td>1248.0</td>\n",
       "      <td>88.76</td>\n",
       "      <td>7.0</td>\n",
       "      <td>NaN</td>\n",
       "      <td>6.00</td>\n",
       "    </tr>\n",
       "    <tr>\n",
       "      <th>4</th>\n",
       "      <td>Audi A4 New 2.0 TDI Multitronic</td>\n",
       "      <td>Coimbatore</td>\n",
       "      <td>2013</td>\n",
       "      <td>40670</td>\n",
       "      <td>Diesel</td>\n",
       "      <td>Automatic</td>\n",
       "      <td>Second</td>\n",
       "      <td>15.20</td>\n",
       "      <td>1968.0</td>\n",
       "      <td>140.8</td>\n",
       "      <td>5.0</td>\n",
       "      <td>NaN</td>\n",
       "      <td>17.74</td>\n",
       "    </tr>\n",
       "  </tbody>\n",
       "</table>\n",
       "</div>"
      ],
      "text/plain": [
       "                               Name    Location  Year  Kilometers_Driven  \\\n",
       "0            Maruti Wagon R LXI CNG      Mumbai  2010              72000   \n",
       "1  Hyundai Creta 1.6 CRDi SX Option        Pune  2015              41000   \n",
       "2                      Honda Jazz V     Chennai  2011              46000   \n",
       "3                 Maruti Ertiga VDI     Chennai  2012              87000   \n",
       "4   Audi A4 New 2.0 TDI Multitronic  Coimbatore  2013              40670   \n",
       "\n",
       "  Fuel_Type Transmission Owner_Type  Mileage  Engine  Power  Seats  New_Price  \\\n",
       "0       CNG       Manual      First    26.60   998.0  58.16    5.0        NaN   \n",
       "1    Diesel       Manual      First    19.67  1582.0  126.2    5.0        NaN   \n",
       "2    Petrol       Manual      First    18.20  1199.0   88.7    5.0  8.61 Lakh   \n",
       "3    Diesel       Manual      First    20.77  1248.0  88.76    7.0        NaN   \n",
       "4    Diesel    Automatic     Second    15.20  1968.0  140.8    5.0        NaN   \n",
       "\n",
       "   Price  \n",
       "0   1.75  \n",
       "1  12.50  \n",
       "2   4.50  \n",
       "3   6.00  \n",
       "4  17.74  "
      ]
     },
     "execution_count": 15,
     "metadata": {},
     "output_type": "execute_result"
    }
   ],
   "source": [
    "df.head()"
   ]
  },
  {
   "cell_type": "code",
   "execution_count": 16,
   "metadata": {
    "id": "_fBRq2jFB8Dy"
   },
   "outputs": [],
   "source": [
    "def check_power_dtype(value):\n",
    "  return type(value)"
   ]
  },
  {
   "cell_type": "code",
   "execution_count": 17,
   "metadata": {
    "colab": {
     "base_uri": "https://localhost:8080/",
     "height": 957
    },
    "id": "j5T_0ygsCIWp",
    "outputId": "2d52b0fa-cd6d-4178-a64d-4269c7a37f63"
   },
   "outputs": [
    {
     "data": {
      "text/html": [
       "<div>\n",
       "<style scoped>\n",
       "    .dataframe tbody tr th:only-of-type {\n",
       "        vertical-align: middle;\n",
       "    }\n",
       "\n",
       "    .dataframe tbody tr th {\n",
       "        vertical-align: top;\n",
       "    }\n",
       "\n",
       "    .dataframe thead th {\n",
       "        text-align: right;\n",
       "    }\n",
       "</style>\n",
       "<table border=\"1\" class=\"dataframe\">\n",
       "  <thead>\n",
       "    <tr style=\"text-align: right;\">\n",
       "      <th></th>\n",
       "      <th>Name</th>\n",
       "      <th>Location</th>\n",
       "      <th>Year</th>\n",
       "      <th>Kilometers_Driven</th>\n",
       "      <th>Fuel_Type</th>\n",
       "      <th>Transmission</th>\n",
       "      <th>Owner_Type</th>\n",
       "      <th>Mileage</th>\n",
       "      <th>Engine</th>\n",
       "      <th>Power</th>\n",
       "      <th>Seats</th>\n",
       "      <th>New_Price</th>\n",
       "      <th>Price</th>\n",
       "    </tr>\n",
       "  </thead>\n",
       "  <tbody>\n",
       "    <tr>\n",
       "      <th>76</th>\n",
       "      <td>Ford Fiesta 1.4 SXi TDCi</td>\n",
       "      <td>Jaipur</td>\n",
       "      <td>2008</td>\n",
       "      <td>111111</td>\n",
       "      <td>Diesel</td>\n",
       "      <td>Manual</td>\n",
       "      <td>First</td>\n",
       "      <td>17.80</td>\n",
       "      <td>1399.0</td>\n",
       "      <td>null bhp</td>\n",
       "      <td>5.0</td>\n",
       "      <td>NaN</td>\n",
       "      <td>2.00</td>\n",
       "    </tr>\n",
       "    <tr>\n",
       "      <th>79</th>\n",
       "      <td>Hyundai Santro Xing XL</td>\n",
       "      <td>Hyderabad</td>\n",
       "      <td>2005</td>\n",
       "      <td>87591</td>\n",
       "      <td>Petrol</td>\n",
       "      <td>Manual</td>\n",
       "      <td>First</td>\n",
       "      <td>0.00</td>\n",
       "      <td>1086.0</td>\n",
       "      <td>null bhp</td>\n",
       "      <td>5.0</td>\n",
       "      <td>NaN</td>\n",
       "      <td>1.30</td>\n",
       "    </tr>\n",
       "    <tr>\n",
       "      <th>89</th>\n",
       "      <td>Hyundai Santro Xing XO</td>\n",
       "      <td>Hyderabad</td>\n",
       "      <td>2007</td>\n",
       "      <td>73745</td>\n",
       "      <td>Petrol</td>\n",
       "      <td>Manual</td>\n",
       "      <td>First</td>\n",
       "      <td>17.00</td>\n",
       "      <td>1086.0</td>\n",
       "      <td>null bhp</td>\n",
       "      <td>5.0</td>\n",
       "      <td>NaN</td>\n",
       "      <td>2.10</td>\n",
       "    </tr>\n",
       "    <tr>\n",
       "      <th>120</th>\n",
       "      <td>Hyundai Santro Xing XL eRLX Euro III</td>\n",
       "      <td>Mumbai</td>\n",
       "      <td>2005</td>\n",
       "      <td>102000</td>\n",
       "      <td>Petrol</td>\n",
       "      <td>Manual</td>\n",
       "      <td>Second</td>\n",
       "      <td>17.00</td>\n",
       "      <td>1086.0</td>\n",
       "      <td>null bhp</td>\n",
       "      <td>5.0</td>\n",
       "      <td>NaN</td>\n",
       "      <td>0.85</td>\n",
       "    </tr>\n",
       "    <tr>\n",
       "      <th>143</th>\n",
       "      <td>Hyundai Santro Xing XO eRLX Euro II</td>\n",
       "      <td>Kochi</td>\n",
       "      <td>2008</td>\n",
       "      <td>80759</td>\n",
       "      <td>Petrol</td>\n",
       "      <td>Manual</td>\n",
       "      <td>Third</td>\n",
       "      <td>17.00</td>\n",
       "      <td>1086.0</td>\n",
       "      <td>null bhp</td>\n",
       "      <td>5.0</td>\n",
       "      <td>NaN</td>\n",
       "      <td>1.67</td>\n",
       "    </tr>\n",
       "    <tr>\n",
       "      <th>...</th>\n",
       "      <td>...</td>\n",
       "      <td>...</td>\n",
       "      <td>...</td>\n",
       "      <td>...</td>\n",
       "      <td>...</td>\n",
       "      <td>...</td>\n",
       "      <td>...</td>\n",
       "      <td>...</td>\n",
       "      <td>...</td>\n",
       "      <td>...</td>\n",
       "      <td>...</td>\n",
       "      <td>...</td>\n",
       "      <td>...</td>\n",
       "    </tr>\n",
       "    <tr>\n",
       "      <th>5873</th>\n",
       "      <td>Hyundai Santro Xing XO eRLX Euro II</td>\n",
       "      <td>Pune</td>\n",
       "      <td>2006</td>\n",
       "      <td>47200</td>\n",
       "      <td>Petrol</td>\n",
       "      <td>Manual</td>\n",
       "      <td>Second</td>\n",
       "      <td>17.00</td>\n",
       "      <td>1086.0</td>\n",
       "      <td>null bhp</td>\n",
       "      <td>5.0</td>\n",
       "      <td>NaN</td>\n",
       "      <td>1.20</td>\n",
       "    </tr>\n",
       "    <tr>\n",
       "      <th>5893</th>\n",
       "      <td>Maruti Estilo LXI</td>\n",
       "      <td>Chennai</td>\n",
       "      <td>2008</td>\n",
       "      <td>51000</td>\n",
       "      <td>Petrol</td>\n",
       "      <td>Manual</td>\n",
       "      <td>Second</td>\n",
       "      <td>19.50</td>\n",
       "      <td>1061.0</td>\n",
       "      <td>null bhp</td>\n",
       "      <td>NaN</td>\n",
       "      <td>NaN</td>\n",
       "      <td>1.75</td>\n",
       "    </tr>\n",
       "    <tr>\n",
       "      <th>5925</th>\n",
       "      <td>Skoda Laura Classic 1.8 TSI</td>\n",
       "      <td>Pune</td>\n",
       "      <td>2010</td>\n",
       "      <td>85000</td>\n",
       "      <td>Petrol</td>\n",
       "      <td>Manual</td>\n",
       "      <td>First</td>\n",
       "      <td>17.50</td>\n",
       "      <td>1798.0</td>\n",
       "      <td>null bhp</td>\n",
       "      <td>5.0</td>\n",
       "      <td>NaN</td>\n",
       "      <td>2.85</td>\n",
       "    </tr>\n",
       "    <tr>\n",
       "      <th>5943</th>\n",
       "      <td>Mahindra Jeep MM 540 DP</td>\n",
       "      <td>Chennai</td>\n",
       "      <td>2002</td>\n",
       "      <td>75000</td>\n",
       "      <td>Diesel</td>\n",
       "      <td>Manual</td>\n",
       "      <td>First</td>\n",
       "      <td>0.00</td>\n",
       "      <td>2112.0</td>\n",
       "      <td>null bhp</td>\n",
       "      <td>6.0</td>\n",
       "      <td>NaN</td>\n",
       "      <td>1.70</td>\n",
       "    </tr>\n",
       "    <tr>\n",
       "      <th>5985</th>\n",
       "      <td>Toyota Etios GD</td>\n",
       "      <td>Delhi</td>\n",
       "      <td>2013</td>\n",
       "      <td>70000</td>\n",
       "      <td>Diesel</td>\n",
       "      <td>Manual</td>\n",
       "      <td>First</td>\n",
       "      <td>23.59</td>\n",
       "      <td>1364.0</td>\n",
       "      <td>null bhp</td>\n",
       "      <td>5.0</td>\n",
       "      <td>NaN</td>\n",
       "      <td>3.88</td>\n",
       "    </tr>\n",
       "  </tbody>\n",
       "</table>\n",
       "<p>107 rows × 13 columns</p>\n",
       "</div>"
      ],
      "text/plain": [
       "                                      Name   Location  Year  \\\n",
       "76                Ford Fiesta 1.4 SXi TDCi     Jaipur  2008   \n",
       "79                  Hyundai Santro Xing XL  Hyderabad  2005   \n",
       "89                  Hyundai Santro Xing XO  Hyderabad  2007   \n",
       "120   Hyundai Santro Xing XL eRLX Euro III     Mumbai  2005   \n",
       "143    Hyundai Santro Xing XO eRLX Euro II      Kochi  2008   \n",
       "...                                    ...        ...   ...   \n",
       "5873   Hyundai Santro Xing XO eRLX Euro II       Pune  2006   \n",
       "5893                     Maruti Estilo LXI    Chennai  2008   \n",
       "5925           Skoda Laura Classic 1.8 TSI       Pune  2010   \n",
       "5943               Mahindra Jeep MM 540 DP    Chennai  2002   \n",
       "5985                       Toyota Etios GD      Delhi  2013   \n",
       "\n",
       "      Kilometers_Driven Fuel_Type Transmission Owner_Type  Mileage  Engine  \\\n",
       "76               111111    Diesel       Manual      First    17.80  1399.0   \n",
       "79                87591    Petrol       Manual      First     0.00  1086.0   \n",
       "89                73745    Petrol       Manual      First    17.00  1086.0   \n",
       "120              102000    Petrol       Manual     Second    17.00  1086.0   \n",
       "143               80759    Petrol       Manual      Third    17.00  1086.0   \n",
       "...                 ...       ...          ...        ...      ...     ...   \n",
       "5873              47200    Petrol       Manual     Second    17.00  1086.0   \n",
       "5893              51000    Petrol       Manual     Second    19.50  1061.0   \n",
       "5925              85000    Petrol       Manual      First    17.50  1798.0   \n",
       "5943              75000    Diesel       Manual      First     0.00  2112.0   \n",
       "5985              70000    Diesel       Manual      First    23.59  1364.0   \n",
       "\n",
       "         Power  Seats New_Price  Price  \n",
       "76    null bhp    5.0       NaN   2.00  \n",
       "79    null bhp    5.0       NaN   1.30  \n",
       "89    null bhp    5.0       NaN   2.10  \n",
       "120   null bhp    5.0       NaN   0.85  \n",
       "143   null bhp    5.0       NaN   1.67  \n",
       "...        ...    ...       ...    ...  \n",
       "5873  null bhp    5.0       NaN   1.20  \n",
       "5893  null bhp    NaN       NaN   1.75  \n",
       "5925  null bhp    5.0       NaN   2.85  \n",
       "5943  null bhp    6.0       NaN   1.70  \n",
       "5985  null bhp    5.0       NaN   3.88  \n",
       "\n",
       "[107 rows x 13 columns]"
      ]
     },
     "execution_count": 17,
     "metadata": {},
     "output_type": "execute_result"
    }
   ],
   "source": [
    "df[df['Power'].apply(check_power_dtype) != float]"
   ]
  },
  {
   "cell_type": "code",
   "execution_count": 18,
   "metadata": {
    "id": "ocoE3kkOCMmx"
   },
   "outputs": [],
   "source": [
    "#fix the cell in Power column where \"null bhp\" is mentioned\n",
    "import numpy as np\n",
    "\n",
    "def fix_null_bhp(value):\n",
    "  if value == \"null bhp\":\n",
    "    return np.nan\n",
    "  else:\n",
    "    return value"
   ]
  },
  {
   "cell_type": "code",
   "execution_count": 19,
   "metadata": {
    "id": "5ecHq-BzDOVu"
   },
   "outputs": [],
   "source": [
    "df['Power'] = df['Power'].apply(fix_null_bhp)"
   ]
  },
  {
   "cell_type": "code",
   "execution_count": 20,
   "metadata": {
    "colab": {
     "base_uri": "https://localhost:8080/"
    },
    "id": "aEFY4mj1DUcm",
    "outputId": "2fe5e075-2758-460d-8b73-68c04ee037b5"
   },
   "outputs": [
    {
     "data": {
      "text/plain": [
       "Name                  object\n",
       "Location              object\n",
       "Year                   int64\n",
       "Kilometers_Driven      int64\n",
       "Fuel_Type             object\n",
       "Transmission          object\n",
       "Owner_Type            object\n",
       "Mileage              float64\n",
       "Engine               float64\n",
       "Power                float64\n",
       "Seats                float64\n",
       "New_Price             object\n",
       "Price                float64\n",
       "dtype: object"
      ]
     },
     "execution_count": 20,
     "metadata": {},
     "output_type": "execute_result"
    }
   ],
   "source": [
    "df.dtypes"
   ]
  },
  {
   "cell_type": "code",
   "execution_count": 21,
   "metadata": {
    "colab": {
     "base_uri": "https://localhost:8080/"
    },
    "id": "fcvZAqX5DYfh",
    "outputId": "fb5a6cfd-6547-43bd-efd8-21366eb15cfc"
   },
   "outputs": [
    {
     "data": {
      "text/plain": [
       "Name                    0\n",
       "Location                0\n",
       "Year                    0\n",
       "Kilometers_Driven       0\n",
       "Fuel_Type               0\n",
       "Transmission            0\n",
       "Owner_Type              0\n",
       "Mileage                 2\n",
       "Engine                 36\n",
       "Power                 143\n",
       "Seats                  42\n",
       "New_Price            5195\n",
       "Price                   0\n",
       "dtype: int64"
      ]
     },
     "execution_count": 21,
     "metadata": {},
     "output_type": "execute_result"
    }
   ],
   "source": [
    "df.isnull().sum()"
   ]
  },
  {
   "cell_type": "code",
   "execution_count": 22,
   "metadata": {
    "colab": {
     "base_uri": "https://localhost:8080/"
    },
    "id": "YVNgy4nlDj1R",
    "outputId": "94ae48b0-857c-4d55-a4bf-ce7d17688c77"
   },
   "outputs": [
    {
     "data": {
      "text/plain": [
       "Name                  0\n",
       "Location              0\n",
       "Year                  0\n",
       "Kilometers_Driven     0\n",
       "Fuel_Type             0\n",
       "Transmission          0\n",
       "Owner_Type            0\n",
       "Mileage              68\n",
       "Engine                0\n",
       "Power                 0\n",
       "Seats                 1\n",
       "New_Price             0\n",
       "Price                 0\n",
       "dtype: int64"
      ]
     },
     "execution_count": 22,
     "metadata": {},
     "output_type": "execute_result"
    }
   ],
   "source": [
    "(df == 0).sum()"
   ]
  },
  {
   "cell_type": "code",
   "execution_count": 23,
   "metadata": {
    "id": "OyVG1c-YDdRX"
   },
   "outputs": [],
   "source": [
    "def fix_zeros(value):\n",
    "  if value == 0:\n",
    "    return np.nan\n",
    "  else:\n",
    "    return value"
   ]
  },
  {
   "cell_type": "code",
   "execution_count": 24,
   "metadata": {
    "id": "R2VVz0S-ECHt"
   },
   "outputs": [],
   "source": [
    "df['Mileage'] = df['Mileage'].apply(fix_zeros)\n",
    "df['Seats'] = df['Seats'].apply(fix_zeros)"
   ]
  },
  {
   "cell_type": "code",
   "execution_count": 25,
   "metadata": {
    "colab": {
     "base_uri": "https://localhost:8080/"
    },
    "id": "Eke4awasEL7j",
    "outputId": "23ea681f-7ec2-4bea-cdfc-244a9e7d629e"
   },
   "outputs": [
    {
     "data": {
      "text/plain": [
       "Name                    0\n",
       "Location                0\n",
       "Year                    0\n",
       "Kilometers_Driven       0\n",
       "Fuel_Type               0\n",
       "Transmission            0\n",
       "Owner_Type              0\n",
       "Mileage                70\n",
       "Engine                 36\n",
       "Power                 143\n",
       "Seats                  43\n",
       "New_Price            5195\n",
       "Price                   0\n",
       "dtype: int64"
      ]
     },
     "execution_count": 25,
     "metadata": {},
     "output_type": "execute_result"
    }
   ],
   "source": [
    "df.isnull().sum()"
   ]
  },
  {
   "cell_type": "code",
   "execution_count": 26,
   "metadata": {
    "colab": {
     "base_uri": "https://localhost:8080/"
    },
    "id": "lIoFl-DEEOO6",
    "outputId": "59287556-d425-4840-ff9a-6a35cf59c95e"
   },
   "outputs": [
    {
     "data": {
      "text/plain": [
       "(6019, 13)"
      ]
     },
     "execution_count": 26,
     "metadata": {},
     "output_type": "execute_result"
    }
   ],
   "source": [
    "df.shape"
   ]
  },
  {
   "cell_type": "code",
   "execution_count": 27,
   "metadata": {
    "colab": {
     "base_uri": "https://localhost:8080/",
     "height": 302
    },
    "id": "OJzNbra6ETEo",
    "outputId": "4935c5d8-d93d-4358-b01d-1d0e3c76c466"
   },
   "outputs": [
    {
     "data": {
      "text/html": [
       "<div>\n",
       "<style scoped>\n",
       "    .dataframe tbody tr th:only-of-type {\n",
       "        vertical-align: middle;\n",
       "    }\n",
       "\n",
       "    .dataframe tbody tr th {\n",
       "        vertical-align: top;\n",
       "    }\n",
       "\n",
       "    .dataframe thead th {\n",
       "        text-align: right;\n",
       "    }\n",
       "</style>\n",
       "<table border=\"1\" class=\"dataframe\">\n",
       "  <thead>\n",
       "    <tr style=\"text-align: right;\">\n",
       "      <th></th>\n",
       "      <th>Name</th>\n",
       "      <th>Location</th>\n",
       "      <th>Year</th>\n",
       "      <th>Kilometers_Driven</th>\n",
       "      <th>Fuel_Type</th>\n",
       "      <th>Transmission</th>\n",
       "      <th>Owner_Type</th>\n",
       "      <th>Mileage</th>\n",
       "      <th>Engine</th>\n",
       "      <th>Power</th>\n",
       "      <th>Seats</th>\n",
       "      <th>Price</th>\n",
       "    </tr>\n",
       "  </thead>\n",
       "  <tbody>\n",
       "    <tr>\n",
       "      <th>0</th>\n",
       "      <td>Maruti Wagon R LXI CNG</td>\n",
       "      <td>Mumbai</td>\n",
       "      <td>2010</td>\n",
       "      <td>72000</td>\n",
       "      <td>CNG</td>\n",
       "      <td>Manual</td>\n",
       "      <td>First</td>\n",
       "      <td>26.60</td>\n",
       "      <td>998.0</td>\n",
       "      <td>58.16</td>\n",
       "      <td>5.0</td>\n",
       "      <td>1.75</td>\n",
       "    </tr>\n",
       "    <tr>\n",
       "      <th>1</th>\n",
       "      <td>Hyundai Creta 1.6 CRDi SX Option</td>\n",
       "      <td>Pune</td>\n",
       "      <td>2015</td>\n",
       "      <td>41000</td>\n",
       "      <td>Diesel</td>\n",
       "      <td>Manual</td>\n",
       "      <td>First</td>\n",
       "      <td>19.67</td>\n",
       "      <td>1582.0</td>\n",
       "      <td>126.20</td>\n",
       "      <td>5.0</td>\n",
       "      <td>12.50</td>\n",
       "    </tr>\n",
       "    <tr>\n",
       "      <th>2</th>\n",
       "      <td>Honda Jazz V</td>\n",
       "      <td>Chennai</td>\n",
       "      <td>2011</td>\n",
       "      <td>46000</td>\n",
       "      <td>Petrol</td>\n",
       "      <td>Manual</td>\n",
       "      <td>First</td>\n",
       "      <td>18.20</td>\n",
       "      <td>1199.0</td>\n",
       "      <td>88.70</td>\n",
       "      <td>5.0</td>\n",
       "      <td>4.50</td>\n",
       "    </tr>\n",
       "    <tr>\n",
       "      <th>3</th>\n",
       "      <td>Maruti Ertiga VDI</td>\n",
       "      <td>Chennai</td>\n",
       "      <td>2012</td>\n",
       "      <td>87000</td>\n",
       "      <td>Diesel</td>\n",
       "      <td>Manual</td>\n",
       "      <td>First</td>\n",
       "      <td>20.77</td>\n",
       "      <td>1248.0</td>\n",
       "      <td>88.76</td>\n",
       "      <td>7.0</td>\n",
       "      <td>6.00</td>\n",
       "    </tr>\n",
       "    <tr>\n",
       "      <th>4</th>\n",
       "      <td>Audi A4 New 2.0 TDI Multitronic</td>\n",
       "      <td>Coimbatore</td>\n",
       "      <td>2013</td>\n",
       "      <td>40670</td>\n",
       "      <td>Diesel</td>\n",
       "      <td>Automatic</td>\n",
       "      <td>Second</td>\n",
       "      <td>15.20</td>\n",
       "      <td>1968.0</td>\n",
       "      <td>140.80</td>\n",
       "      <td>5.0</td>\n",
       "      <td>17.74</td>\n",
       "    </tr>\n",
       "  </tbody>\n",
       "</table>\n",
       "</div>"
      ],
      "text/plain": [
       "                               Name    Location  Year  Kilometers_Driven  \\\n",
       "0            Maruti Wagon R LXI CNG      Mumbai  2010              72000   \n",
       "1  Hyundai Creta 1.6 CRDi SX Option        Pune  2015              41000   \n",
       "2                      Honda Jazz V     Chennai  2011              46000   \n",
       "3                 Maruti Ertiga VDI     Chennai  2012              87000   \n",
       "4   Audi A4 New 2.0 TDI Multitronic  Coimbatore  2013              40670   \n",
       "\n",
       "  Fuel_Type Transmission Owner_Type  Mileage  Engine   Power  Seats  Price  \n",
       "0       CNG       Manual      First    26.60   998.0   58.16    5.0   1.75  \n",
       "1    Diesel       Manual      First    19.67  1582.0  126.20    5.0  12.50  \n",
       "2    Petrol       Manual      First    18.20  1199.0   88.70    5.0   4.50  \n",
       "3    Diesel       Manual      First    20.77  1248.0   88.76    7.0   6.00  \n",
       "4    Diesel    Automatic     Second    15.20  1968.0  140.80    5.0  17.74  "
      ]
     },
     "execution_count": 27,
     "metadata": {},
     "output_type": "execute_result"
    }
   ],
   "source": [
    "df1 = df.drop(['New_Price'],axis='columns')\n",
    "df1.head()"
   ]
  },
  {
   "cell_type": "code",
   "execution_count": 28,
   "metadata": {
    "colab": {
     "base_uri": "https://localhost:8080/"
    },
    "id": "8Qk7b6K8E_xu",
    "outputId": "83038d89-5d22-45b4-a2ec-8ea9951fcdbf"
   },
   "outputs": [
    {
     "data": {
      "text/plain": [
       "Name                   0\n",
       "Location               0\n",
       "Year                   0\n",
       "Kilometers_Driven      0\n",
       "Fuel_Type              0\n",
       "Transmission           0\n",
       "Owner_Type             0\n",
       "Mileage               70\n",
       "Engine                36\n",
       "Power                143\n",
       "Seats                 43\n",
       "Price                  0\n",
       "dtype: int64"
      ]
     },
     "execution_count": 28,
     "metadata": {},
     "output_type": "execute_result"
    }
   ],
   "source": [
    "df1.isnull().sum()"
   ]
  },
  {
   "cell_type": "code",
   "execution_count": 29,
   "metadata": {
    "colab": {
     "base_uri": "https://localhost:8080/"
    },
    "id": "tUiZK4K4FL7R",
    "outputId": "7e14b3bc-dcf3-4e34-e11b-91318eef8619"
   },
   "outputs": [
    {
     "data": {
      "text/plain": [
       "Mumbai        790\n",
       "Hyderabad     742\n",
       "Kochi         651\n",
       "Coimbatore    636\n",
       "Pune          622\n",
       "Delhi         554\n",
       "Kolkata       535\n",
       "Chennai       494\n",
       "Jaipur        413\n",
       "Bangalore     358\n",
       "Ahmedabad     224\n",
       "Name: Location, dtype: int64"
      ]
     },
     "execution_count": 29,
     "metadata": {},
     "output_type": "execute_result"
    }
   ],
   "source": [
    "df1['Location'].value_counts()"
   ]
  },
  {
   "cell_type": "code",
   "execution_count": 30,
   "metadata": {
    "colab": {
     "base_uri": "https://localhost:8080/"
    },
    "id": "qDg60U5PFWwi",
    "outputId": "11069b4f-fe1f-42e6-cec5-5ef343eaf755"
   },
   "outputs": [
    {
     "data": {
      "text/plain": [
       "Diesel      3205\n",
       "Petrol      2746\n",
       "CNG           56\n",
       "LPG           10\n",
       "Electric       2\n",
       "Name: Fuel_Type, dtype: int64"
      ]
     },
     "execution_count": 30,
     "metadata": {},
     "output_type": "execute_result"
    }
   ],
   "source": [
    "df1['Fuel_Type'].value_counts()"
   ]
  },
  {
   "cell_type": "code",
   "execution_count": 31,
   "metadata": {
    "colab": {
     "base_uri": "https://localhost:8080/"
    },
    "id": "uTbA31XZqt-r",
    "outputId": "d28d7425-1981-42a9-e327-a90237dfa4e9"
   },
   "outputs": [
    {
     "data": {
      "text/plain": [
       "(6019, 12)"
      ]
     },
     "execution_count": 31,
     "metadata": {},
     "output_type": "execute_result"
    }
   ],
   "source": [
    "df1.shape"
   ]
  },
  {
   "cell_type": "code",
   "execution_count": 32,
   "metadata": {
    "colab": {
     "base_uri": "https://localhost:8080/",
     "height": 285
    },
    "id": "AxCC6WefFd5f",
    "outputId": "15b282ab-45cc-43e1-8711-f66fb139164a"
   },
   "outputs": [
    {
     "data": {
      "text/html": [
       "<div>\n",
       "<style scoped>\n",
       "    .dataframe tbody tr th:only-of-type {\n",
       "        vertical-align: middle;\n",
       "    }\n",
       "\n",
       "    .dataframe tbody tr th {\n",
       "        vertical-align: top;\n",
       "    }\n",
       "\n",
       "    .dataframe thead th {\n",
       "        text-align: right;\n",
       "    }\n",
       "</style>\n",
       "<table border=\"1\" class=\"dataframe\">\n",
       "  <thead>\n",
       "    <tr style=\"text-align: right;\">\n",
       "      <th></th>\n",
       "      <th>Name</th>\n",
       "      <th>Location</th>\n",
       "      <th>Year</th>\n",
       "      <th>Kilometers_Driven</th>\n",
       "      <th>Fuel_Type</th>\n",
       "      <th>Transmission</th>\n",
       "      <th>Owner_Type</th>\n",
       "      <th>Mileage</th>\n",
       "      <th>Engine</th>\n",
       "      <th>Power</th>\n",
       "      <th>Seats</th>\n",
       "      <th>Price</th>\n",
       "    </tr>\n",
       "  </thead>\n",
       "  <tbody>\n",
       "    <tr>\n",
       "      <th>1</th>\n",
       "      <td>Hyundai Creta 1.6 CRDi SX Option</td>\n",
       "      <td>Pune</td>\n",
       "      <td>2015</td>\n",
       "      <td>41000</td>\n",
       "      <td>Diesel</td>\n",
       "      <td>Manual</td>\n",
       "      <td>First</td>\n",
       "      <td>19.67</td>\n",
       "      <td>1582.0</td>\n",
       "      <td>126.20</td>\n",
       "      <td>5.0</td>\n",
       "      <td>12.50</td>\n",
       "    </tr>\n",
       "    <tr>\n",
       "      <th>2</th>\n",
       "      <td>Honda Jazz V</td>\n",
       "      <td>Chennai</td>\n",
       "      <td>2011</td>\n",
       "      <td>46000</td>\n",
       "      <td>Petrol</td>\n",
       "      <td>Manual</td>\n",
       "      <td>First</td>\n",
       "      <td>18.20</td>\n",
       "      <td>1199.0</td>\n",
       "      <td>88.70</td>\n",
       "      <td>5.0</td>\n",
       "      <td>4.50</td>\n",
       "    </tr>\n",
       "    <tr>\n",
       "      <th>3</th>\n",
       "      <td>Maruti Ertiga VDI</td>\n",
       "      <td>Chennai</td>\n",
       "      <td>2012</td>\n",
       "      <td>87000</td>\n",
       "      <td>Diesel</td>\n",
       "      <td>Manual</td>\n",
       "      <td>First</td>\n",
       "      <td>20.77</td>\n",
       "      <td>1248.0</td>\n",
       "      <td>88.76</td>\n",
       "      <td>7.0</td>\n",
       "      <td>6.00</td>\n",
       "    </tr>\n",
       "    <tr>\n",
       "      <th>4</th>\n",
       "      <td>Audi A4 New 2.0 TDI Multitronic</td>\n",
       "      <td>Coimbatore</td>\n",
       "      <td>2013</td>\n",
       "      <td>40670</td>\n",
       "      <td>Diesel</td>\n",
       "      <td>Automatic</td>\n",
       "      <td>Second</td>\n",
       "      <td>15.20</td>\n",
       "      <td>1968.0</td>\n",
       "      <td>140.80</td>\n",
       "      <td>5.0</td>\n",
       "      <td>17.74</td>\n",
       "    </tr>\n",
       "    <tr>\n",
       "      <th>6</th>\n",
       "      <td>Nissan Micra Diesel XV</td>\n",
       "      <td>Jaipur</td>\n",
       "      <td>2013</td>\n",
       "      <td>86999</td>\n",
       "      <td>Diesel</td>\n",
       "      <td>Manual</td>\n",
       "      <td>First</td>\n",
       "      <td>23.08</td>\n",
       "      <td>1461.0</td>\n",
       "      <td>63.10</td>\n",
       "      <td>5.0</td>\n",
       "      <td>3.50</td>\n",
       "    </tr>\n",
       "  </tbody>\n",
       "</table>\n",
       "</div>"
      ],
      "text/plain": [
       "                               Name    Location  Year  Kilometers_Driven  \\\n",
       "1  Hyundai Creta 1.6 CRDi SX Option        Pune  2015              41000   \n",
       "2                      Honda Jazz V     Chennai  2011              46000   \n",
       "3                 Maruti Ertiga VDI     Chennai  2012              87000   \n",
       "4   Audi A4 New 2.0 TDI Multitronic  Coimbatore  2013              40670   \n",
       "6            Nissan Micra Diesel XV      Jaipur  2013              86999   \n",
       "\n",
       "  Fuel_Type Transmission Owner_Type  Mileage  Engine   Power  Seats  Price  \n",
       "1    Diesel       Manual      First    19.67  1582.0  126.20    5.0  12.50  \n",
       "2    Petrol       Manual      First    18.20  1199.0   88.70    5.0   4.50  \n",
       "3    Diesel       Manual      First    20.77  1248.0   88.76    7.0   6.00  \n",
       "4    Diesel    Automatic     Second    15.20  1968.0  140.80    5.0  17.74  \n",
       "6    Diesel       Manual      First    23.08  1461.0   63.10    5.0   3.50  "
      ]
     },
     "execution_count": 32,
     "metadata": {},
     "output_type": "execute_result"
    }
   ],
   "source": [
    "#CNG or LPG or Electric\n",
    "#df1[(df1['Fuel_Type'] == 'CNG') | (df1['Fuel_Type'] == 'LPG') | (df1['Fuel_Type'] == 'Electric')]\n",
    "#df1[(df1['Fuel_Type'] != 'CNG') & (df1['Fuel_Type'] != 'LPG') & (df1['Fuel_Type'] != 'Electric')]\n",
    "\n",
    "#df1[df1['Fuel_Type'].isin(['CNG','LPG','Electric'])]\n",
    "df2 = df1[~df1['Fuel_Type'].isin(['CNG','LPG','Electric'])]\n",
    "df2.head()"
   ]
  },
  {
   "cell_type": "code",
   "execution_count": 33,
   "metadata": {
    "colab": {
     "base_uri": "https://localhost:8080/"
    },
    "id": "hxrZc-atGkR4",
    "outputId": "13511dbf-a327-4ead-bdf4-65002ac7baf9"
   },
   "outputs": [
    {
     "data": {
      "text/plain": [
       "Manual       4233\n",
       "Automatic    1718\n",
       "Name: Transmission, dtype: int64"
      ]
     },
     "execution_count": 33,
     "metadata": {},
     "output_type": "execute_result"
    }
   ],
   "source": [
    "df2['Transmission'].value_counts()"
   ]
  },
  {
   "cell_type": "code",
   "execution_count": 34,
   "metadata": {
    "colab": {
     "base_uri": "https://localhost:8080/"
    },
    "id": "03ICzKt1GqF9",
    "outputId": "096b57d2-9920-4388-d7db-81e04c28607c"
   },
   "outputs": [
    {
     "data": {
      "text/plain": [
       "First             4874\n",
       "Second             956\n",
       "Third              112\n",
       "Fourth & Above       9\n",
       "Name: Owner_Type, dtype: int64"
      ]
     },
     "execution_count": 34,
     "metadata": {},
     "output_type": "execute_result"
    }
   ],
   "source": [
    "df2['Owner_Type'].value_counts()"
   ]
  },
  {
   "cell_type": "code",
   "execution_count": 35,
   "metadata": {
    "id": "L8JCX6NlGwKm"
   },
   "outputs": [],
   "source": [
    "def combine_ownertype(owner):\n",
    "  if owner != \"First\":\n",
    "    return \"Second & above\"\n",
    "  else:\n",
    "    return \"First\""
   ]
  },
  {
   "cell_type": "code",
   "execution_count": 36,
   "metadata": {
    "colab": {
     "base_uri": "https://localhost:8080/"
    },
    "id": "MKFYdoBIsPiD",
    "outputId": "d7e3574a-7989-4f73-8f1d-56c280c541b0"
   },
   "outputs": [
    {
     "name": "stderr",
     "output_type": "stream",
     "text": [
      "C:\\Users\\Bindhu Sri\\AppData\\Local\\Temp\\ipykernel_10108\\4182082905.py:1: SettingWithCopyWarning: \n",
      "A value is trying to be set on a copy of a slice from a DataFrame.\n",
      "Try using .loc[row_indexer,col_indexer] = value instead\n",
      "\n",
      "See the caveats in the documentation: https://pandas.pydata.org/pandas-docs/stable/user_guide/indexing.html#returning-a-view-versus-a-copy\n",
      "  df2['Owner_Type'] = df2['Owner_Type'].apply(combine_ownertype)\n"
     ]
    }
   ],
   "source": [
    "df2['Owner_Type'] = df2['Owner_Type'].apply(combine_ownertype)"
   ]
  },
  {
   "cell_type": "code",
   "execution_count": 37,
   "metadata": {
    "colab": {
     "base_uri": "https://localhost:8080/",
     "height": 302
    },
    "id": "cyjvTzYnsyxs",
    "outputId": "8d372fa6-2a83-4be0-cd01-ded26a29cafb"
   },
   "outputs": [
    {
     "data": {
      "text/html": [
       "<div>\n",
       "<style scoped>\n",
       "    .dataframe tbody tr th:only-of-type {\n",
       "        vertical-align: middle;\n",
       "    }\n",
       "\n",
       "    .dataframe tbody tr th {\n",
       "        vertical-align: top;\n",
       "    }\n",
       "\n",
       "    .dataframe thead th {\n",
       "        text-align: right;\n",
       "    }\n",
       "</style>\n",
       "<table border=\"1\" class=\"dataframe\">\n",
       "  <thead>\n",
       "    <tr style=\"text-align: right;\">\n",
       "      <th></th>\n",
       "      <th>Name</th>\n",
       "      <th>Location</th>\n",
       "      <th>Year</th>\n",
       "      <th>Kilometers_Driven</th>\n",
       "      <th>Fuel_Type</th>\n",
       "      <th>Transmission</th>\n",
       "      <th>Owner_Type</th>\n",
       "      <th>Mileage</th>\n",
       "      <th>Engine</th>\n",
       "      <th>Power</th>\n",
       "      <th>Seats</th>\n",
       "      <th>Price</th>\n",
       "    </tr>\n",
       "  </thead>\n",
       "  <tbody>\n",
       "    <tr>\n",
       "      <th>1</th>\n",
       "      <td>Hyundai Creta 1.6 CRDi SX Option</td>\n",
       "      <td>Pune</td>\n",
       "      <td>2015</td>\n",
       "      <td>41000</td>\n",
       "      <td>Diesel</td>\n",
       "      <td>Manual</td>\n",
       "      <td>First</td>\n",
       "      <td>19.67</td>\n",
       "      <td>1582.0</td>\n",
       "      <td>126.20</td>\n",
       "      <td>5.0</td>\n",
       "      <td>12.50</td>\n",
       "    </tr>\n",
       "    <tr>\n",
       "      <th>2</th>\n",
       "      <td>Honda Jazz V</td>\n",
       "      <td>Chennai</td>\n",
       "      <td>2011</td>\n",
       "      <td>46000</td>\n",
       "      <td>Petrol</td>\n",
       "      <td>Manual</td>\n",
       "      <td>First</td>\n",
       "      <td>18.20</td>\n",
       "      <td>1199.0</td>\n",
       "      <td>88.70</td>\n",
       "      <td>5.0</td>\n",
       "      <td>4.50</td>\n",
       "    </tr>\n",
       "    <tr>\n",
       "      <th>3</th>\n",
       "      <td>Maruti Ertiga VDI</td>\n",
       "      <td>Chennai</td>\n",
       "      <td>2012</td>\n",
       "      <td>87000</td>\n",
       "      <td>Diesel</td>\n",
       "      <td>Manual</td>\n",
       "      <td>First</td>\n",
       "      <td>20.77</td>\n",
       "      <td>1248.0</td>\n",
       "      <td>88.76</td>\n",
       "      <td>7.0</td>\n",
       "      <td>6.00</td>\n",
       "    </tr>\n",
       "    <tr>\n",
       "      <th>4</th>\n",
       "      <td>Audi A4 New 2.0 TDI Multitronic</td>\n",
       "      <td>Coimbatore</td>\n",
       "      <td>2013</td>\n",
       "      <td>40670</td>\n",
       "      <td>Diesel</td>\n",
       "      <td>Automatic</td>\n",
       "      <td>Second &amp; above</td>\n",
       "      <td>15.20</td>\n",
       "      <td>1968.0</td>\n",
       "      <td>140.80</td>\n",
       "      <td>5.0</td>\n",
       "      <td>17.74</td>\n",
       "    </tr>\n",
       "    <tr>\n",
       "      <th>6</th>\n",
       "      <td>Nissan Micra Diesel XV</td>\n",
       "      <td>Jaipur</td>\n",
       "      <td>2013</td>\n",
       "      <td>86999</td>\n",
       "      <td>Diesel</td>\n",
       "      <td>Manual</td>\n",
       "      <td>First</td>\n",
       "      <td>23.08</td>\n",
       "      <td>1461.0</td>\n",
       "      <td>63.10</td>\n",
       "      <td>5.0</td>\n",
       "      <td>3.50</td>\n",
       "    </tr>\n",
       "  </tbody>\n",
       "</table>\n",
       "</div>"
      ],
      "text/plain": [
       "                               Name    Location  Year  Kilometers_Driven  \\\n",
       "1  Hyundai Creta 1.6 CRDi SX Option        Pune  2015              41000   \n",
       "2                      Honda Jazz V     Chennai  2011              46000   \n",
       "3                 Maruti Ertiga VDI     Chennai  2012              87000   \n",
       "4   Audi A4 New 2.0 TDI Multitronic  Coimbatore  2013              40670   \n",
       "6            Nissan Micra Diesel XV      Jaipur  2013              86999   \n",
       "\n",
       "  Fuel_Type Transmission      Owner_Type  Mileage  Engine   Power  Seats  \\\n",
       "1    Diesel       Manual           First    19.67  1582.0  126.20    5.0   \n",
       "2    Petrol       Manual           First    18.20  1199.0   88.70    5.0   \n",
       "3    Diesel       Manual           First    20.77  1248.0   88.76    7.0   \n",
       "4    Diesel    Automatic  Second & above    15.20  1968.0  140.80    5.0   \n",
       "6    Diesel       Manual           First    23.08  1461.0   63.10    5.0   \n",
       "\n",
       "   Price  \n",
       "1  12.50  \n",
       "2   4.50  \n",
       "3   6.00  \n",
       "4  17.74  \n",
       "6   3.50  "
      ]
     },
     "execution_count": 37,
     "metadata": {},
     "output_type": "execute_result"
    }
   ],
   "source": [
    "df2.head()"
   ]
  },
  {
   "cell_type": "code",
   "execution_count": 38,
   "metadata": {
    "colab": {
     "base_uri": "https://localhost:8080/"
    },
    "id": "8bA4ORdHs26x",
    "outputId": "6665c9ed-3b63-40fa-821e-a441061c472c"
   },
   "outputs": [
    {
     "data": {
      "text/plain": [
       "First             4874\n",
       "Second & above    1077\n",
       "Name: Owner_Type, dtype: int64"
      ]
     },
     "execution_count": 38,
     "metadata": {},
     "output_type": "execute_result"
    }
   ],
   "source": [
    "df2['Owner_Type'].value_counts()"
   ]
  },
  {
   "cell_type": "code",
   "execution_count": 39,
   "metadata": {
    "colab": {
     "base_uri": "https://localhost:8080/",
     "height": 302
    },
    "id": "T3PnndIJtWMG",
    "outputId": "576c7ba4-3c7d-4f4a-9ca2-f2228116550e"
   },
   "outputs": [
    {
     "data": {
      "text/html": [
       "<div>\n",
       "<style scoped>\n",
       "    .dataframe tbody tr th:only-of-type {\n",
       "        vertical-align: middle;\n",
       "    }\n",
       "\n",
       "    .dataframe tbody tr th {\n",
       "        vertical-align: top;\n",
       "    }\n",
       "\n",
       "    .dataframe thead th {\n",
       "        text-align: right;\n",
       "    }\n",
       "</style>\n",
       "<table border=\"1\" class=\"dataframe\">\n",
       "  <thead>\n",
       "    <tr style=\"text-align: right;\">\n",
       "      <th></th>\n",
       "      <th>Name</th>\n",
       "      <th>Location</th>\n",
       "      <th>Year</th>\n",
       "      <th>Kilometers_Driven</th>\n",
       "      <th>Fuel_Type</th>\n",
       "      <th>Transmission</th>\n",
       "      <th>Owner_Type</th>\n",
       "      <th>Mileage</th>\n",
       "      <th>Engine</th>\n",
       "      <th>Power</th>\n",
       "      <th>Seats</th>\n",
       "      <th>Price</th>\n",
       "    </tr>\n",
       "  </thead>\n",
       "  <tbody>\n",
       "    <tr>\n",
       "      <th>1</th>\n",
       "      <td>Hyundai Creta 1.6 CRDi SX Option</td>\n",
       "      <td>Pune</td>\n",
       "      <td>2015</td>\n",
       "      <td>41000</td>\n",
       "      <td>Diesel</td>\n",
       "      <td>Manual</td>\n",
       "      <td>First</td>\n",
       "      <td>19.67</td>\n",
       "      <td>1582.0</td>\n",
       "      <td>126.20</td>\n",
       "      <td>5.0</td>\n",
       "      <td>12.50</td>\n",
       "    </tr>\n",
       "    <tr>\n",
       "      <th>2</th>\n",
       "      <td>Honda Jazz V</td>\n",
       "      <td>Chennai</td>\n",
       "      <td>2011</td>\n",
       "      <td>46000</td>\n",
       "      <td>Petrol</td>\n",
       "      <td>Manual</td>\n",
       "      <td>First</td>\n",
       "      <td>18.20</td>\n",
       "      <td>1199.0</td>\n",
       "      <td>88.70</td>\n",
       "      <td>5.0</td>\n",
       "      <td>4.50</td>\n",
       "    </tr>\n",
       "    <tr>\n",
       "      <th>3</th>\n",
       "      <td>Maruti Ertiga VDI</td>\n",
       "      <td>Chennai</td>\n",
       "      <td>2012</td>\n",
       "      <td>87000</td>\n",
       "      <td>Diesel</td>\n",
       "      <td>Manual</td>\n",
       "      <td>First</td>\n",
       "      <td>20.77</td>\n",
       "      <td>1248.0</td>\n",
       "      <td>88.76</td>\n",
       "      <td>7.0</td>\n",
       "      <td>6.00</td>\n",
       "    </tr>\n",
       "    <tr>\n",
       "      <th>4</th>\n",
       "      <td>Audi A4 New 2.0 TDI Multitronic</td>\n",
       "      <td>Coimbatore</td>\n",
       "      <td>2013</td>\n",
       "      <td>40670</td>\n",
       "      <td>Diesel</td>\n",
       "      <td>Automatic</td>\n",
       "      <td>Second &amp; above</td>\n",
       "      <td>15.20</td>\n",
       "      <td>1968.0</td>\n",
       "      <td>140.80</td>\n",
       "      <td>5.0</td>\n",
       "      <td>17.74</td>\n",
       "    </tr>\n",
       "    <tr>\n",
       "      <th>6</th>\n",
       "      <td>Nissan Micra Diesel XV</td>\n",
       "      <td>Jaipur</td>\n",
       "      <td>2013</td>\n",
       "      <td>86999</td>\n",
       "      <td>Diesel</td>\n",
       "      <td>Manual</td>\n",
       "      <td>First</td>\n",
       "      <td>23.08</td>\n",
       "      <td>1461.0</td>\n",
       "      <td>63.10</td>\n",
       "      <td>5.0</td>\n",
       "      <td>3.50</td>\n",
       "    </tr>\n",
       "  </tbody>\n",
       "</table>\n",
       "</div>"
      ],
      "text/plain": [
       "                               Name    Location  Year  Kilometers_Driven  \\\n",
       "1  Hyundai Creta 1.6 CRDi SX Option        Pune  2015              41000   \n",
       "2                      Honda Jazz V     Chennai  2011              46000   \n",
       "3                 Maruti Ertiga VDI     Chennai  2012              87000   \n",
       "4   Audi A4 New 2.0 TDI Multitronic  Coimbatore  2013              40670   \n",
       "6            Nissan Micra Diesel XV      Jaipur  2013              86999   \n",
       "\n",
       "  Fuel_Type Transmission      Owner_Type  Mileage  Engine   Power  Seats  \\\n",
       "1    Diesel       Manual           First    19.67  1582.0  126.20    5.0   \n",
       "2    Petrol       Manual           First    18.20  1199.0   88.70    5.0   \n",
       "3    Diesel       Manual           First    20.77  1248.0   88.76    7.0   \n",
       "4    Diesel    Automatic  Second & above    15.20  1968.0  140.80    5.0   \n",
       "6    Diesel       Manual           First    23.08  1461.0   63.10    5.0   \n",
       "\n",
       "   Price  \n",
       "1  12.50  \n",
       "2   4.50  \n",
       "3   6.00  \n",
       "4  17.74  \n",
       "6   3.50  "
      ]
     },
     "execution_count": 39,
     "metadata": {},
     "output_type": "execute_result"
    }
   ],
   "source": [
    "df2.head()"
   ]
  },
  {
   "cell_type": "code",
   "execution_count": 40,
   "metadata": {
    "colab": {
     "base_uri": "https://localhost:8080/"
    },
    "id": "Yi8542pPuj3a",
    "outputId": "f49f340f-fe10-46c2-8394-f66202d48664"
   },
   "outputs": [
    {
     "data": {
      "text/plain": [
       "(5951, 12)"
      ]
     },
     "execution_count": 40,
     "metadata": {},
     "output_type": "execute_result"
    }
   ],
   "source": [
    "df2.shape"
   ]
  },
  {
   "cell_type": "code",
   "execution_count": 41,
   "metadata": {
    "colab": {
     "base_uri": "https://localhost:8080/"
    },
    "id": "h1NMxxxducHU",
    "outputId": "71408f51-a5be-444f-c79a-06ed177362d1"
   },
   "outputs": [
    {
     "data": {
      "text/plain": [
       "1847"
      ]
     },
     "execution_count": 41,
     "metadata": {},
     "output_type": "execute_result"
    }
   ],
   "source": [
    "len(df2['Name'].unique())"
   ]
  },
  {
   "cell_type": "code",
   "execution_count": 42,
   "metadata": {
    "colab": {
     "base_uri": "https://localhost:8080/",
     "height": 36
    },
    "id": "VesdKl29vSfT",
    "outputId": "069b30e8-3422-4593-8465-9780c4803829"
   },
   "outputs": [
    {
     "data": {
      "text/plain": [
       "'Bipul'"
      ]
     },
     "execution_count": 42,
     "metadata": {},
     "output_type": "execute_result"
    }
   ],
   "source": [
    "k = ' Bipul  '\n",
    "k.strip()"
   ]
  },
  {
   "cell_type": "code",
   "execution_count": 43,
   "metadata": {
    "colab": {
     "base_uri": "https://localhost:8080/"
    },
    "id": "WrVXNKgcue5b",
    "outputId": "1a536821-b8b5-4903-9b72-7f1069842508"
   },
   "outputs": [
    {
     "name": "stderr",
     "output_type": "stream",
     "text": [
      "C:\\Users\\Bindhu Sri\\AppData\\Local\\Temp\\ipykernel_10108\\2079151270.py:2: SettingWithCopyWarning: \n",
      "A value is trying to be set on a copy of a slice from a DataFrame.\n",
      "Try using .loc[row_indexer,col_indexer] = value instead\n",
      "\n",
      "See the caveats in the documentation: https://pandas.pydata.org/pandas-docs/stable/user_guide/indexing.html#returning-a-view-versus-a-copy\n",
      "  df2['Name'] = df2['Name'].str.lower()\n",
      "C:\\Users\\Bindhu Sri\\AppData\\Local\\Temp\\ipykernel_10108\\2079151270.py:3: SettingWithCopyWarning: \n",
      "A value is trying to be set on a copy of a slice from a DataFrame.\n",
      "Try using .loc[row_indexer,col_indexer] = value instead\n",
      "\n",
      "See the caveats in the documentation: https://pandas.pydata.org/pandas-docs/stable/user_guide/indexing.html#returning-a-view-versus-a-copy\n",
      "  df2['Name'] = df2['Name'].str.strip()         #to remove any extra spaces\n"
     ]
    }
   ],
   "source": [
    "#convert all names into lower cases =>  Maruti Ertiga VDI \t& Maruti ertiga VDI\n",
    "df2['Name'] = df2['Name'].str.lower()\n",
    "df2['Name'] = df2['Name'].str.strip()         #to remove any extra spaces"
   ]
  },
  {
   "cell_type": "code",
   "execution_count": 44,
   "metadata": {
    "colab": {
     "base_uri": "https://localhost:8080/"
    },
    "id": "gPAXPk-vvG4a",
    "outputId": "b006d31a-4a87-4260-93da-e89b2abb8f97"
   },
   "outputs": [
    {
     "data": {
      "text/plain": [
       "1823"
      ]
     },
     "execution_count": 44,
     "metadata": {},
     "output_type": "execute_result"
    }
   ],
   "source": [
    "len(df2['Name'].unique())"
   ]
  },
  {
   "cell_type": "code",
   "execution_count": 45,
   "metadata": {
    "colab": {
     "base_uri": "https://localhost:8080/"
    },
    "id": "pG-f5iTsvZbJ",
    "outputId": "a4adc23d-71f1-41c0-8c02-a803c1af3f07"
   },
   "outputs": [
    {
     "data": {
      "text/plain": [
       "maruti swift dzire vdi                50\n",
       "mahindra xuv500 w8 2wd                49\n",
       "maruti swift vdi                      45\n",
       "honda city 1.5 s mt                   34\n",
       "maruti swift vdi bsiv                 31\n",
       "                                      ..\n",
       "volkswagen vento 1.5 tdi trendline     1\n",
       "mercedes-benz e-class e 350 d          1\n",
       "maruti swift 1.3 vxi abs               1\n",
       "skoda fabia 1.2 mpi ambition plus      1\n",
       "mahindra xylo d4 bsiv                  1\n",
       "Name: Name, Length: 1823, dtype: int64"
      ]
     },
     "execution_count": 45,
     "metadata": {},
     "output_type": "execute_result"
    }
   ],
   "source": [
    "df2['Name'].value_counts()"
   ]
  },
  {
   "cell_type": "code",
   "execution_count": 46,
   "metadata": {
    "colab": {
     "base_uri": "https://localhost:8080/"
    },
    "id": "ir8305KOveoT",
    "outputId": "7b26e645-8adf-44d0-b712-71f5e48ea4a4"
   },
   "outputs": [
    {
     "name": "stdout",
     "output_type": "stream",
     "text": [
      "['maruti', 'swift', 'dzire', 'vdi']\n",
      "['maruti', 'swift']\n",
      "maruti swift\n"
     ]
    }
   ],
   "source": [
    "k = 'maruti swift dzire vdi'\n",
    "print(k.split(' '))\n",
    "print(k.split(' ')[:2])\n",
    "print(' '.join(k.split(' ')[:2]))"
   ]
  },
  {
   "cell_type": "code",
   "execution_count": 47,
   "metadata": {
    "id": "V1lReNGKv2FI"
   },
   "outputs": [],
   "source": [
    "def fixname(name):\n",
    "  return ' '.join(name.split(' ')[:2])"
   ]
  },
  {
   "cell_type": "code",
   "execution_count": 48,
   "metadata": {
    "colab": {
     "base_uri": "https://localhost:8080/",
     "height": 36
    },
    "id": "672XW9sTxmUL",
    "outputId": "22dd8143-2ad1-42cd-fa73-b3d2d2647c78"
   },
   "outputs": [
    {
     "data": {
      "text/plain": [
       "'maruti swift'"
      ]
     },
     "execution_count": 48,
     "metadata": {},
     "output_type": "execute_result"
    }
   ],
   "source": [
    "fixname('maruti swift 1.3 vxi abs')"
   ]
  },
  {
   "cell_type": "code",
   "execution_count": 49,
   "metadata": {
    "colab": {
     "base_uri": "https://localhost:8080/"
    },
    "id": "hit8QCH6xrFn",
    "outputId": "a1c8c2af-663e-4563-8753-1159afff70d4"
   },
   "outputs": [
    {
     "name": "stderr",
     "output_type": "stream",
     "text": [
      "C:\\Users\\Bindhu Sri\\AppData\\Local\\Temp\\ipykernel_10108\\989363594.py:1: SettingWithCopyWarning: \n",
      "A value is trying to be set on a copy of a slice from a DataFrame.\n",
      "Try using .loc[row_indexer,col_indexer] = value instead\n",
      "\n",
      "See the caveats in the documentation: https://pandas.pydata.org/pandas-docs/stable/user_guide/indexing.html#returning-a-view-versus-a-copy\n",
      "  df2['Name'] = df2['Name'].apply(fixname)\n"
     ]
    }
   ],
   "source": [
    "df2['Name'] = df2['Name'].apply(fixname)"
   ]
  },
  {
   "cell_type": "code",
   "execution_count": 50,
   "metadata": {
    "colab": {
     "base_uri": "https://localhost:8080/"
    },
    "id": "5GQv7G_pxw8u",
    "outputId": "f75b9aa9-1704-4cb9-a680-01a955046d5d"
   },
   "outputs": [
    {
     "data": {
      "text/plain": [
       "213"
      ]
     },
     "execution_count": 50,
     "metadata": {},
     "output_type": "execute_result"
    }
   ],
   "source": [
    "len(df2['Name'].unique())"
   ]
  },
  {
   "cell_type": "code",
   "execution_count": 51,
   "metadata": {
    "colab": {
     "base_uri": "https://localhost:8080/"
    },
    "id": "kBIkQ8Hjx3Gu",
    "outputId": "4debe8a7-57d6-4ab7-9eaa-2ebea7c5e2ce"
   },
   "outputs": [
    {
     "data": {
      "text/plain": [
       "maruti swift         353\n",
       "honda city           270\n",
       "hyundai i20          247\n",
       "hyundai verna        170\n",
       "toyota innova        164\n",
       "                    ... \n",
       "volkswagen beetle      1\n",
       "fiat petra             1\n",
       "volkswagen tiguan      1\n",
       "mini countryman        1\n",
       "jaguar f               1\n",
       "Name: Name, Length: 213, dtype: int64"
      ]
     },
     "execution_count": 51,
     "metadata": {},
     "output_type": "execute_result"
    }
   ],
   "source": [
    "car_count = df2['Name'].value_counts()\n",
    "car_count"
   ]
  },
  {
   "cell_type": "code",
   "execution_count": 52,
   "metadata": {
    "colab": {
     "base_uri": "https://localhost:8080/"
    },
    "id": "RNpt_gvzx97N",
    "outputId": "55eae86a-1a82-4fc6-857a-ef001dcf8ce7"
   },
   "outputs": [
    {
     "data": {
      "text/plain": [
       "45"
      ]
     },
     "execution_count": 52,
     "metadata": {},
     "output_type": "execute_result"
    }
   ],
   "source": [
    "(car_count >= 40).sum()"
   ]
  },
  {
   "cell_type": "code",
   "execution_count": 53,
   "metadata": {
    "colab": {
     "base_uri": "https://localhost:8080/"
    },
    "id": "PB3hiny_yhoo",
    "outputId": "ff860932-693a-41f4-a5bc-41d991f4acf2"
   },
   "outputs": [
    {
     "data": {
      "text/plain": [
       "maruti swift             353\n",
       "honda city               270\n",
       "hyundai i20              247\n",
       "hyundai verna            170\n",
       "toyota innova            164\n",
       "hyundai i10              155\n",
       "hyundai grand            152\n",
       "volkswagen polo          151\n",
       "maruti alto              134\n",
       "maruti wagon             126\n",
       "mahindra xuv500          113\n",
       "volkswagen vento         107\n",
       "honda amaze              106\n",
       "ford figo                101\n",
       "toyota fortuner          101\n",
       "bmw 3                     98\n",
       "ford ecosport             95\n",
       "mercedes-benz new         94\n",
       "hyundai creta             93\n",
       "mercedes-benz e-class     88\n",
       "renault duster            83\n",
       "audi a4                   78\n",
       "hyundai santro            74\n",
       "maruti ciaz               71\n",
       "maruti ertiga             71\n",
       "bmw 5                     68\n",
       "toyota corolla            67\n",
       "maruti ritz               64\n",
       "maruti baleno             63\n",
       "mahindra scorpio          61\n",
       "toyota etios              61\n",
       "land rover                60\n",
       "honda brio                60\n",
       "hyundai eon               60\n",
       "honda jazz                58\n",
       "hyundai xcent             57\n",
       "maruti celerio            56\n",
       "skoda superb              49\n",
       "audi a6                   49\n",
       "skoda rapid               47\n",
       "chevrolet beat            46\n",
       "maruti vitara             43\n",
       "tata indica               40\n",
       "ford fiesta               40\n",
       "renault kwid              40\n",
       "Name: Name, dtype: int64"
      ]
     },
     "execution_count": 53,
     "metadata": {},
     "output_type": "execute_result"
    }
   ],
   "source": [
    "car_atleast_40_Samples = car_count[car_count >= 40]\n",
    "car_atleast_40_Samples"
   ]
  },
  {
   "cell_type": "code",
   "execution_count": 54,
   "metadata": {
    "colab": {
     "base_uri": "https://localhost:8080/"
    },
    "id": "DQK-29C-y5PI",
    "outputId": "57d6169b-25af-4e52-e366-44475367220e"
   },
   "outputs": [
    {
     "name": "stdout",
     "output_type": "stream",
     "text": [
      "True\n",
      "False\n"
     ]
    }
   ],
   "source": [
    "print('volkswagen vento' in car_atleast_40_Samples)\n",
    "print('fiat petra' in car_atleast_40_Samples)"
   ]
  },
  {
   "cell_type": "code",
   "execution_count": 55,
   "metadata": {
    "id": "xDqd9OwXzcvm"
   },
   "outputs": [],
   "source": [
    "def filter_less_car_samples(name):\n",
    "  return name in car_atleast_40_Samples"
   ]
  },
  {
   "cell_type": "code",
   "execution_count": 56,
   "metadata": {
    "colab": {
     "base_uri": "https://localhost:8080/"
    },
    "id": "USzj-k2kzrO6",
    "outputId": "5cf0ee5f-eaa7-4b63-a22f-f628ab75a34e"
   },
   "outputs": [
    {
     "name": "stdout",
     "output_type": "stream",
     "text": [
      "True\n",
      "False\n"
     ]
    }
   ],
   "source": [
    "print(filter_less_car_samples('volkswagen vento'))\n",
    "print(filter_less_car_samples('fiat petra'))"
   ]
  },
  {
   "cell_type": "code",
   "execution_count": 57,
   "metadata": {
    "colab": {
     "base_uri": "https://localhost:8080/",
     "height": 206
    },
    "id": "peEvup_PzvZP",
    "outputId": "bbaf326b-ef93-4b34-a45d-736db5a72c52"
   },
   "outputs": [
    {
     "data": {
      "text/html": [
       "<div>\n",
       "<style scoped>\n",
       "    .dataframe tbody tr th:only-of-type {\n",
       "        vertical-align: middle;\n",
       "    }\n",
       "\n",
       "    .dataframe tbody tr th {\n",
       "        vertical-align: top;\n",
       "    }\n",
       "\n",
       "    .dataframe thead th {\n",
       "        text-align: right;\n",
       "    }\n",
       "</style>\n",
       "<table border=\"1\" class=\"dataframe\">\n",
       "  <thead>\n",
       "    <tr style=\"text-align: right;\">\n",
       "      <th></th>\n",
       "      <th>Name</th>\n",
       "      <th>Location</th>\n",
       "      <th>Year</th>\n",
       "      <th>Kilometers_Driven</th>\n",
       "      <th>Fuel_Type</th>\n",
       "      <th>Transmission</th>\n",
       "      <th>Owner_Type</th>\n",
       "      <th>Mileage</th>\n",
       "      <th>Engine</th>\n",
       "      <th>Power</th>\n",
       "      <th>Seats</th>\n",
       "      <th>Price</th>\n",
       "    </tr>\n",
       "  </thead>\n",
       "  <tbody>\n",
       "    <tr>\n",
       "      <th>1</th>\n",
       "      <td>hyundai creta</td>\n",
       "      <td>Pune</td>\n",
       "      <td>2015</td>\n",
       "      <td>41000</td>\n",
       "      <td>Diesel</td>\n",
       "      <td>Manual</td>\n",
       "      <td>First</td>\n",
       "      <td>19.67</td>\n",
       "      <td>1582.0</td>\n",
       "      <td>126.20</td>\n",
       "      <td>5.0</td>\n",
       "      <td>12.50</td>\n",
       "    </tr>\n",
       "    <tr>\n",
       "      <th>2</th>\n",
       "      <td>honda jazz</td>\n",
       "      <td>Chennai</td>\n",
       "      <td>2011</td>\n",
       "      <td>46000</td>\n",
       "      <td>Petrol</td>\n",
       "      <td>Manual</td>\n",
       "      <td>First</td>\n",
       "      <td>18.20</td>\n",
       "      <td>1199.0</td>\n",
       "      <td>88.70</td>\n",
       "      <td>5.0</td>\n",
       "      <td>4.50</td>\n",
       "    </tr>\n",
       "    <tr>\n",
       "      <th>3</th>\n",
       "      <td>maruti ertiga</td>\n",
       "      <td>Chennai</td>\n",
       "      <td>2012</td>\n",
       "      <td>87000</td>\n",
       "      <td>Diesel</td>\n",
       "      <td>Manual</td>\n",
       "      <td>First</td>\n",
       "      <td>20.77</td>\n",
       "      <td>1248.0</td>\n",
       "      <td>88.76</td>\n",
       "      <td>7.0</td>\n",
       "      <td>6.00</td>\n",
       "    </tr>\n",
       "    <tr>\n",
       "      <th>4</th>\n",
       "      <td>audi a4</td>\n",
       "      <td>Coimbatore</td>\n",
       "      <td>2013</td>\n",
       "      <td>40670</td>\n",
       "      <td>Diesel</td>\n",
       "      <td>Automatic</td>\n",
       "      <td>Second &amp; above</td>\n",
       "      <td>15.20</td>\n",
       "      <td>1968.0</td>\n",
       "      <td>140.80</td>\n",
       "      <td>5.0</td>\n",
       "      <td>17.74</td>\n",
       "    </tr>\n",
       "    <tr>\n",
       "      <th>7</th>\n",
       "      <td>toyota innova</td>\n",
       "      <td>Mumbai</td>\n",
       "      <td>2016</td>\n",
       "      <td>36000</td>\n",
       "      <td>Diesel</td>\n",
       "      <td>Automatic</td>\n",
       "      <td>First</td>\n",
       "      <td>11.36</td>\n",
       "      <td>2755.0</td>\n",
       "      <td>171.50</td>\n",
       "      <td>8.0</td>\n",
       "      <td>17.50</td>\n",
       "    </tr>\n",
       "  </tbody>\n",
       "</table>\n",
       "</div>"
      ],
      "text/plain": [
       "            Name    Location  Year  Kilometers_Driven Fuel_Type Transmission  \\\n",
       "1  hyundai creta        Pune  2015              41000    Diesel       Manual   \n",
       "2     honda jazz     Chennai  2011              46000    Petrol       Manual   \n",
       "3  maruti ertiga     Chennai  2012              87000    Diesel       Manual   \n",
       "4        audi a4  Coimbatore  2013              40670    Diesel    Automatic   \n",
       "7  toyota innova      Mumbai  2016              36000    Diesel    Automatic   \n",
       "\n",
       "       Owner_Type  Mileage  Engine   Power  Seats  Price  \n",
       "1           First    19.67  1582.0  126.20    5.0  12.50  \n",
       "2           First    18.20  1199.0   88.70    5.0   4.50  \n",
       "3           First    20.77  1248.0   88.76    7.0   6.00  \n",
       "4  Second & above    15.20  1968.0  140.80    5.0  17.74  \n",
       "7           First    11.36  2755.0  171.50    8.0  17.50  "
      ]
     },
     "execution_count": 57,
     "metadata": {},
     "output_type": "execute_result"
    }
   ],
   "source": [
    "df3 = df2[df2['Name'].apply(filter_less_car_samples)]\n",
    "df3.head()"
   ]
  },
  {
   "cell_type": "code",
   "execution_count": 58,
   "metadata": {
    "colab": {
     "base_uri": "https://localhost:8080/"
    },
    "id": "srVsLoKwz2nt",
    "outputId": "06bcdba8-ccc2-456e-b5f9-1a86cbe1f289"
   },
   "outputs": [
    {
     "name": "stdout",
     "output_type": "stream",
     "text": [
      "45\n"
     ]
    }
   ],
   "source": [
    "print(len(df3['Name'].unique()))"
   ]
  },
  {
   "cell_type": "markdown",
   "metadata": {
    "id": "3kSdnPd_QJPf"
   },
   "source": [
    "\n",
    "****\n",
    "---\n",
    "\n"
   ]
  },
  {
   "cell_type": "code",
   "execution_count": 59,
   "metadata": {
    "colab": {
     "base_uri": "https://localhost:8080/"
    },
    "id": "nWgOp76W0LHY",
    "outputId": "96156575-b265-42a6-881f-911eb5144e3e"
   },
   "outputs": [
    {
     "data": {
      "text/plain": [
       "Name                   0\n",
       "Location               0\n",
       "Year                   0\n",
       "Kilometers_Driven      0\n",
       "Fuel_Type              0\n",
       "Transmission           0\n",
       "Owner_Type             0\n",
       "Mileage               49\n",
       "Engine                32\n",
       "Power                113\n",
       "Seats                 35\n",
       "Price                  0\n",
       "dtype: int64"
      ]
     },
     "execution_count": 59,
     "metadata": {},
     "output_type": "execute_result"
    }
   ],
   "source": [
    "df3.isnull().sum()"
   ]
  },
  {
   "cell_type": "code",
   "execution_count": 60,
   "metadata": {
    "colab": {
     "base_uri": "https://localhost:8080/"
    },
    "id": "RFIk5LFk1LYl",
    "outputId": "e03ec396-ff8c-421d-88e7-3d627119ca0e"
   },
   "outputs": [
    {
     "data": {
      "text/plain": [
       "Name                  object\n",
       "Location              object\n",
       "Year                   int64\n",
       "Kilometers_Driven      int64\n",
       "Fuel_Type             object\n",
       "Transmission          object\n",
       "Owner_Type            object\n",
       "Mileage              float64\n",
       "Engine               float64\n",
       "Power                float64\n",
       "Seats                float64\n",
       "Price                float64\n",
       "dtype: object"
      ]
     },
     "execution_count": 60,
     "metadata": {},
     "output_type": "execute_result"
    }
   ],
   "source": [
    "df3.dtypes"
   ]
  },
  {
   "cell_type": "code",
   "execution_count": 61,
   "metadata": {
    "colab": {
     "base_uri": "https://localhost:8080/"
    },
    "id": "6bdTtW3z1SZL",
    "outputId": "656a86b8-77d8-4d38-cc22-e8d3a93325eb"
   },
   "outputs": [
    {
     "data": {
      "text/plain": [
       "1       19.67\n",
       "2       18.20\n",
       "3       20.77\n",
       "4       15.20\n",
       "7       11.36\n",
       "        ...  \n",
       "6013    25.80\n",
       "6014    28.40\n",
       "6015    24.40\n",
       "6017    18.90\n",
       "6018    25.44\n",
       "Name: Mileage, Length: 4384, dtype: float64"
      ]
     },
     "execution_count": 61,
     "metadata": {},
     "output_type": "execute_result"
    }
   ],
   "source": [
    "df3['Mileage']"
   ]
  },
  {
   "cell_type": "code",
   "execution_count": 62,
   "metadata": {
    "colab": {
     "base_uri": "https://localhost:8080/"
    },
    "id": "AsF0ppOlCZb8",
    "outputId": "a79d77b5-2539-487c-d88f-31c2745c1379"
   },
   "outputs": [
    {
     "data": {
      "text/plain": [
       "Diesel    2246\n",
       "Petrol    2138\n",
       "Name: Fuel_Type, dtype: int64"
      ]
     },
     "execution_count": 62,
     "metadata": {},
     "output_type": "execute_result"
    }
   ],
   "source": [
    "df3['Fuel_Type'].value_counts()"
   ]
  },
  {
   "cell_type": "code",
   "execution_count": 63,
   "metadata": {
    "colab": {
     "base_uri": "https://localhost:8080/"
    },
    "id": "loC6tjKaCg9f",
    "outputId": "cbd00ca5-5240-404a-afef-c6c2b723f449"
   },
   "outputs": [
    {
     "data": {
      "text/plain": [
       "Manual       3350\n",
       "Automatic    1034\n",
       "Name: Transmission, dtype: int64"
      ]
     },
     "execution_count": 63,
     "metadata": {},
     "output_type": "execute_result"
    }
   ],
   "source": [
    "df3['Transmission'].value_counts()"
   ]
  },
  {
   "cell_type": "code",
   "execution_count": 64,
   "metadata": {
    "id": "7oxkslwG0mqM"
   },
   "outputs": [],
   "source": [
    "import seaborn as sns"
   ]
  },
  {
   "cell_type": "code",
   "execution_count": 65,
   "metadata": {
    "colab": {
     "base_uri": "https://localhost:8080/",
     "height": 470
    },
    "id": "ItwhFM7F0xQD",
    "outputId": "242fe2d7-37f5-4d68-df3a-689ce0d2124b"
   },
   "outputs": [
    {
     "data": {
      "text/plain": [
       "<AxesSubplot:xlabel='Fuel_Type', ylabel='Engine'>"
      ]
     },
     "execution_count": 65,
     "metadata": {},
     "output_type": "execute_result"
    },
    {
     "data": {
      "image/png": "[encoded data removed]",
      "text/plain": [
       "<Figure size 432x288 with 1 Axes>"
      ]
     },
     "metadata": {
      "needs_background": "light"
     },
     "output_type": "display_data"
    }
   ],
   "source": [
    "sns.boxplot(x = 'Fuel_Type' , y = 'Engine' , data=df3)"
   ]
  },
  {
   "cell_type": "code",
   "execution_count": 66,
   "metadata": {
    "id": "0opui-xgDDqE"
   },
   "outputs": [],
   "source": [
    "dfd = df3[df3['Fuel_Type'] == 'Diesel']        #Diesel cars\n",
    "dfp = df3[df3['Fuel_Type'] == 'Petrol']        #Petrol cars"
   ]
  },
  {
   "cell_type": "code",
   "execution_count": 67,
   "metadata": {
    "id": "VFBoSqDzDD1n"
   },
   "outputs": [],
   "source": [
    "q1_ed = dfd['Engine'].describe()[4]\n",
    "q3_ed = dfd['Engine'].describe()[6]\n",
    "\n",
    "iqr_ed = q3_ed - q1_ed\n",
    "\n",
    "lf_ed = q1_ed - 1.5 * iqr_ed\n",
    "hf_ed = q3_ed + 1.5 * iqr_ed\n",
    "\n",
    "dfd[(dfd['Engine'] < lf_ed) | (dfd['Engine'] > hf_ed)]\n",
    "dfd = dfd[~((dfd['Engine'] < lf_ed) | (dfd['Engine'] > hf_ed))]"
   ]
  },
  {
   "cell_type": "code",
   "execution_count": 68,
   "metadata": {
    "id": "6xdfQ_n0Gi3c"
   },
   "outputs": [],
   "source": [
    "dfd['Engine'] = dfd['Engine'].fillna(dfd['Engine'].mean())      #use mean engine values of diesel cars to fill missing values"
   ]
  },
  {
   "cell_type": "code",
   "execution_count": 69,
   "metadata": {
    "id": "w6VLZ8OwDZ5O"
   },
   "outputs": [],
   "source": [
    "q1_ep = dfp['Engine'].describe()[4]\n",
    "q3_ep = dfp['Engine'].describe()[6]\n",
    "\n",
    "iqr_ep = q3_ep - q1_ep\n",
    "\n",
    "lf_ep = q1_ep - 1.5 * iqr_ep\n",
    "hf_ep = q3_ep + 1.5 * iqr_ep\n",
    "\n",
    "dfp = dfp[~((dfp['Engine'] < lf_ep) | (dfp['Engine'] > hf_ep))]"
   ]
  },
  {
   "cell_type": "code",
   "execution_count": 70,
   "metadata": {
    "id": "z6RarpONG0cm"
   },
   "outputs": [],
   "source": [
    "dfp['Engine'] = dfp['Engine'].fillna(dfp['Engine'].mean())      #use mean engine values of petrol cars to fill missing values"
   ]
  },
  {
   "cell_type": "code",
   "execution_count": 71,
   "metadata": {
    "colab": {
     "base_uri": "https://localhost:8080/",
     "height": 250
    },
    "id": "s1XTGJ_9GH5M",
    "outputId": "7d4afce6-d9e2-4b15-9929-0ab8bf27b47c"
   },
   "outputs": [
    {
     "data": {
      "text/html": [
       "<div>\n",
       "<style scoped>\n",
       "    .dataframe tbody tr th:only-of-type {\n",
       "        vertical-align: middle;\n",
       "    }\n",
       "\n",
       "    .dataframe tbody tr th {\n",
       "        vertical-align: top;\n",
       "    }\n",
       "\n",
       "    .dataframe thead th {\n",
       "        text-align: right;\n",
       "    }\n",
       "</style>\n",
       "<table border=\"1\" class=\"dataframe\">\n",
       "  <thead>\n",
       "    <tr style=\"text-align: right;\">\n",
       "      <th></th>\n",
       "      <th>Name</th>\n",
       "      <th>Location</th>\n",
       "      <th>Year</th>\n",
       "      <th>Kilometers_Driven</th>\n",
       "      <th>Fuel_Type</th>\n",
       "      <th>Transmission</th>\n",
       "      <th>Owner_Type</th>\n",
       "      <th>Mileage</th>\n",
       "      <th>Engine</th>\n",
       "      <th>Power</th>\n",
       "      <th>Seats</th>\n",
       "      <th>Price</th>\n",
       "    </tr>\n",
       "  </thead>\n",
       "  <tbody>\n",
       "    <tr>\n",
       "      <th>1</th>\n",
       "      <td>hyundai creta</td>\n",
       "      <td>Pune</td>\n",
       "      <td>2015</td>\n",
       "      <td>41000</td>\n",
       "      <td>Diesel</td>\n",
       "      <td>Manual</td>\n",
       "      <td>First</td>\n",
       "      <td>19.67</td>\n",
       "      <td>1582.0</td>\n",
       "      <td>126.20</td>\n",
       "      <td>5.0</td>\n",
       "      <td>12.50</td>\n",
       "    </tr>\n",
       "    <tr>\n",
       "      <th>3</th>\n",
       "      <td>maruti ertiga</td>\n",
       "      <td>Chennai</td>\n",
       "      <td>2012</td>\n",
       "      <td>87000</td>\n",
       "      <td>Diesel</td>\n",
       "      <td>Manual</td>\n",
       "      <td>First</td>\n",
       "      <td>20.77</td>\n",
       "      <td>1248.0</td>\n",
       "      <td>88.76</td>\n",
       "      <td>7.0</td>\n",
       "      <td>6.00</td>\n",
       "    </tr>\n",
       "    <tr>\n",
       "      <th>4</th>\n",
       "      <td>audi a4</td>\n",
       "      <td>Coimbatore</td>\n",
       "      <td>2013</td>\n",
       "      <td>40670</td>\n",
       "      <td>Diesel</td>\n",
       "      <td>Automatic</td>\n",
       "      <td>Second &amp; above</td>\n",
       "      <td>15.20</td>\n",
       "      <td>1968.0</td>\n",
       "      <td>140.80</td>\n",
       "      <td>5.0</td>\n",
       "      <td>17.74</td>\n",
       "    </tr>\n",
       "    <tr>\n",
       "      <th>7</th>\n",
       "      <td>toyota innova</td>\n",
       "      <td>Mumbai</td>\n",
       "      <td>2016</td>\n",
       "      <td>36000</td>\n",
       "      <td>Diesel</td>\n",
       "      <td>Automatic</td>\n",
       "      <td>First</td>\n",
       "      <td>11.36</td>\n",
       "      <td>2755.0</td>\n",
       "      <td>171.50</td>\n",
       "      <td>8.0</td>\n",
       "      <td>17.50</td>\n",
       "    </tr>\n",
       "    <tr>\n",
       "      <th>8</th>\n",
       "      <td>volkswagen vento</td>\n",
       "      <td>Pune</td>\n",
       "      <td>2013</td>\n",
       "      <td>64430</td>\n",
       "      <td>Diesel</td>\n",
       "      <td>Manual</td>\n",
       "      <td>First</td>\n",
       "      <td>20.54</td>\n",
       "      <td>1598.0</td>\n",
       "      <td>103.60</td>\n",
       "      <td>5.0</td>\n",
       "      <td>5.20</td>\n",
       "    </tr>\n",
       "  </tbody>\n",
       "</table>\n",
       "</div>"
      ],
      "text/plain": [
       "               Name    Location  Year  Kilometers_Driven Fuel_Type  \\\n",
       "1     hyundai creta        Pune  2015              41000    Diesel   \n",
       "3     maruti ertiga     Chennai  2012              87000    Diesel   \n",
       "4           audi a4  Coimbatore  2013              40670    Diesel   \n",
       "7     toyota innova      Mumbai  2016              36000    Diesel   \n",
       "8  volkswagen vento        Pune  2013              64430    Diesel   \n",
       "\n",
       "  Transmission      Owner_Type  Mileage  Engine   Power  Seats  Price  \n",
       "1       Manual           First    19.67  1582.0  126.20    5.0  12.50  \n",
       "3       Manual           First    20.77  1248.0   88.76    7.0   6.00  \n",
       "4    Automatic  Second & above    15.20  1968.0  140.80    5.0  17.74  \n",
       "7    Automatic           First    11.36  2755.0  171.50    8.0  17.50  \n",
       "8       Manual           First    20.54  1598.0  103.60    5.0   5.20  "
      ]
     },
     "execution_count": 71,
     "metadata": {},
     "output_type": "execute_result"
    }
   ],
   "source": [
    "_df4 = pd.concat((dfd,dfp))\n",
    "_df4.head()"
   ]
  },
  {
   "cell_type": "code",
   "execution_count": 72,
   "metadata": {
    "colab": {
     "base_uri": "https://localhost:8080/",
     "height": 469
    },
    "id": "XERpVBEqGYvg",
    "outputId": "27f99cc8-ad03-4a75-c9ee-426d1f3f434f"
   },
   "outputs": [
    {
     "data": {
      "text/plain": [
       "<AxesSubplot:xlabel='Fuel_Type', ylabel='Engine'>"
      ]
     },
     "execution_count": 72,
     "metadata": {},
     "output_type": "execute_result"
    },
    {
     "data": {
      "image/png": "[encoded data removed]",
      "text/plain": [
       "<Figure size 432x288 with 1 Axes>"
      ]
     },
     "metadata": {
      "needs_background": "light"
     },
     "output_type": "display_data"
    }
   ],
   "source": [
    "sns.boxplot(x = 'Fuel_Type' , y = 'Engine' , data=_df4)"
   ]
  },
  {
   "cell_type": "code",
   "execution_count": 73,
   "metadata": {
    "colab": {
     "base_uri": "https://localhost:8080/"
    },
    "id": "jF_yO_uLGcVt",
    "outputId": "dda4f3b5-566c-45ca-ae9b-82e442579e3d"
   },
   "outputs": [
    {
     "data": {
      "text/plain": [
       "Name                   0\n",
       "Location               0\n",
       "Year                   0\n",
       "Kilometers_Driven      0\n",
       "Fuel_Type              0\n",
       "Transmission           0\n",
       "Owner_Type             0\n",
       "Mileage               47\n",
       "Engine                 0\n",
       "Power                112\n",
       "Seats                 34\n",
       "Price                  0\n",
       "dtype: int64"
      ]
     },
     "execution_count": 73,
     "metadata": {},
     "output_type": "execute_result"
    }
   ],
   "source": [
    "_df4.isnull().sum()"
   ]
  },
  {
   "cell_type": "code",
   "execution_count": 74,
   "metadata": {
    "colab": {
     "base_uri": "https://localhost:8080/"
    },
    "id": "M2xNjhRtG94o",
    "outputId": "209fe951-a56a-4e77-8849-3d367c2b2c4c"
   },
   "outputs": [
    {
     "data": {
      "text/plain": [
       "35"
      ]
     },
     "execution_count": 74,
     "metadata": {},
     "output_type": "execute_result"
    }
   ],
   "source": [
    "len(df3)- len(_df4)"
   ]
  },
  {
   "cell_type": "code",
   "execution_count": 75,
   "metadata": {
    "colab": {
     "base_uri": "https://localhost:8080/",
     "height": 469
    },
    "id": "5LT_FpuR1j_G",
    "outputId": "482a6761-4a34-4a10-8ca8-5de72c4a6373"
   },
   "outputs": [
    {
     "data": {
      "text/plain": [
       "<AxesSubplot:xlabel='Fuel_Type', ylabel='Power'>"
      ]
     },
     "execution_count": 75,
     "metadata": {},
     "output_type": "execute_result"
    },
    {
     "data": {
      "image/png": "[encoded data removed]",
      "text/plain": [
       "<Figure size 432x288 with 1 Axes>"
      ]
     },
     "metadata": {
      "needs_background": "light"
     },
     "output_type": "display_data"
    }
   ],
   "source": [
    "sns.boxplot(x = 'Fuel_Type' , y = 'Power' , data=_df4)"
   ]
  },
  {
   "cell_type": "code",
   "execution_count": 76,
   "metadata": {
    "colab": {
     "base_uri": "https://localhost:8080/",
     "height": 469
    },
    "id": "GgKF0S0y1mPp",
    "outputId": "6d13c9dd-f996-4015-dcfb-f47c30cb8901"
   },
   "outputs": [
    {
     "data": {
      "text/plain": [
       "<AxesSubplot:xlabel='Fuel_Type', ylabel='Mileage'>"
      ]
     },
     "execution_count": 76,
     "metadata": {},
     "output_type": "execute_result"
    },
    {
     "data": {
      "image/png": "[encoded data removed]",
      "text/plain": [
       "<Figure size 432x288 with 1 Axes>"
      ]
     },
     "metadata": {
      "needs_background": "light"
     },
     "output_type": "display_data"
    }
   ],
   "source": [
    "sns.boxplot(x = 'Fuel_Type' , y = 'Mileage' , data=_df4)"
   ]
  },
  {
   "cell_type": "markdown",
   "metadata": {
    "id": "WY0L6zcAQER0"
   },
   "source": [
    "\n",
    "\n",
    "---\n",
    "\n",
    "\n",
    "\n",
    "---\n",
    "\n"
   ]
  },
  {
   "cell_type": "code",
   "execution_count": 77,
   "metadata": {
    "colab": {
     "base_uri": "https://localhost:8080/",
     "height": 206
    },
    "id": "m8eFphqnCU4-",
    "outputId": "631eb06f-5019-421a-e8ea-b40a7868a487"
   },
   "outputs": [
    {
     "data": {
      "text/html": [
       "<div>\n",
       "<style scoped>\n",
       "    .dataframe tbody tr th:only-of-type {\n",
       "        vertical-align: middle;\n",
       "    }\n",
       "\n",
       "    .dataframe tbody tr th {\n",
       "        vertical-align: top;\n",
       "    }\n",
       "\n",
       "    .dataframe thead th {\n",
       "        text-align: right;\n",
       "    }\n",
       "</style>\n",
       "<table border=\"1\" class=\"dataframe\">\n",
       "  <thead>\n",
       "    <tr style=\"text-align: right;\">\n",
       "      <th></th>\n",
       "      <th>Name</th>\n",
       "      <th>Location</th>\n",
       "      <th>Year</th>\n",
       "      <th>Kilometers_Driven</th>\n",
       "      <th>Fuel_Type</th>\n",
       "      <th>Transmission</th>\n",
       "      <th>Owner_Type</th>\n",
       "      <th>Mileage</th>\n",
       "      <th>Engine</th>\n",
       "      <th>Power</th>\n",
       "      <th>Seats</th>\n",
       "      <th>Price</th>\n",
       "    </tr>\n",
       "  </thead>\n",
       "  <tbody>\n",
       "    <tr>\n",
       "      <th>1</th>\n",
       "      <td>hyundai creta</td>\n",
       "      <td>Pune</td>\n",
       "      <td>2015</td>\n",
       "      <td>41000</td>\n",
       "      <td>Diesel</td>\n",
       "      <td>Manual</td>\n",
       "      <td>First</td>\n",
       "      <td>19.67</td>\n",
       "      <td>1582.0</td>\n",
       "      <td>126.20</td>\n",
       "      <td>5.0</td>\n",
       "      <td>12.50</td>\n",
       "    </tr>\n",
       "    <tr>\n",
       "      <th>2</th>\n",
       "      <td>honda jazz</td>\n",
       "      <td>Chennai</td>\n",
       "      <td>2011</td>\n",
       "      <td>46000</td>\n",
       "      <td>Petrol</td>\n",
       "      <td>Manual</td>\n",
       "      <td>First</td>\n",
       "      <td>18.20</td>\n",
       "      <td>1199.0</td>\n",
       "      <td>88.70</td>\n",
       "      <td>5.0</td>\n",
       "      <td>4.50</td>\n",
       "    </tr>\n",
       "    <tr>\n",
       "      <th>3</th>\n",
       "      <td>maruti ertiga</td>\n",
       "      <td>Chennai</td>\n",
       "      <td>2012</td>\n",
       "      <td>87000</td>\n",
       "      <td>Diesel</td>\n",
       "      <td>Manual</td>\n",
       "      <td>First</td>\n",
       "      <td>20.77</td>\n",
       "      <td>1248.0</td>\n",
       "      <td>88.76</td>\n",
       "      <td>7.0</td>\n",
       "      <td>6.00</td>\n",
       "    </tr>\n",
       "    <tr>\n",
       "      <th>4</th>\n",
       "      <td>audi a4</td>\n",
       "      <td>Coimbatore</td>\n",
       "      <td>2013</td>\n",
       "      <td>40670</td>\n",
       "      <td>Diesel</td>\n",
       "      <td>Automatic</td>\n",
       "      <td>Second &amp; above</td>\n",
       "      <td>15.20</td>\n",
       "      <td>1968.0</td>\n",
       "      <td>140.80</td>\n",
       "      <td>5.0</td>\n",
       "      <td>17.74</td>\n",
       "    </tr>\n",
       "    <tr>\n",
       "      <th>7</th>\n",
       "      <td>toyota innova</td>\n",
       "      <td>Mumbai</td>\n",
       "      <td>2016</td>\n",
       "      <td>36000</td>\n",
       "      <td>Diesel</td>\n",
       "      <td>Automatic</td>\n",
       "      <td>First</td>\n",
       "      <td>11.36</td>\n",
       "      <td>2755.0</td>\n",
       "      <td>171.50</td>\n",
       "      <td>8.0</td>\n",
       "      <td>17.50</td>\n",
       "    </tr>\n",
       "  </tbody>\n",
       "</table>\n",
       "</div>"
      ],
      "text/plain": [
       "            Name    Location  Year  Kilometers_Driven Fuel_Type Transmission  \\\n",
       "1  hyundai creta        Pune  2015              41000    Diesel       Manual   \n",
       "2     honda jazz     Chennai  2011              46000    Petrol       Manual   \n",
       "3  maruti ertiga     Chennai  2012              87000    Diesel       Manual   \n",
       "4        audi a4  Coimbatore  2013              40670    Diesel    Automatic   \n",
       "7  toyota innova      Mumbai  2016              36000    Diesel    Automatic   \n",
       "\n",
       "       Owner_Type  Mileage  Engine   Power  Seats  Price  \n",
       "1           First    19.67  1582.0  126.20    5.0  12.50  \n",
       "2           First    18.20  1199.0   88.70    5.0   4.50  \n",
       "3           First    20.77  1248.0   88.76    7.0   6.00  \n",
       "4  Second & above    15.20  1968.0  140.80    5.0  17.74  \n",
       "7           First    11.36  2755.0  171.50    8.0  17.50  "
      ]
     },
     "execution_count": 77,
     "metadata": {},
     "output_type": "execute_result"
    }
   ],
   "source": [
    "df3.head()"
   ]
  },
  {
   "cell_type": "code",
   "execution_count": 78,
   "metadata": {
    "colab": {
     "base_uri": "https://localhost:8080/"
    },
    "id": "CM4d_8b-ILXu",
    "outputId": "d7665df7-1bd8-4bda-989b-c99ab64b06b7"
   },
   "outputs": [
    {
     "data": {
      "text/plain": [
       "Name\n",
       "audi a4                  2020.871795\n",
       "audi a6                  2189.857143\n",
       "bmw 3                    2046.091837\n",
       "bmw 5                    2359.428571\n",
       "chevrolet beat           1078.934783\n",
       "ford ecosport            1461.368421\n",
       "ford fiesta              1433.525000\n",
       "ford figo                1350.386139\n",
       "honda amaze              1353.735849\n",
       "honda brio               1198.000000\n",
       "honda city               1494.718045\n",
       "honda jazz               1272.333333\n",
       "hyundai creta            1573.580645\n",
       "hyundai eon               820.133333\n",
       "hyundai grand            1180.210526\n",
       "hyundai i10              1166.206452\n",
       "hyundai i20              1272.732794\n",
       "hyundai santro           1076.910448\n",
       "hyundai verna            1568.264706\n",
       "hyundai xcent            1166.122807\n",
       "land rover               2475.719298\n",
       "mahindra scorpio         2207.950820\n",
       "mahindra xuv500          2172.557522\n",
       "maruti alto               862.798507\n",
       "maruti baleno            1222.920635\n",
       "maruti celerio            983.357143\n",
       "maruti ciaz              1314.126761\n",
       "maruti ertiga            1275.661972\n",
       "maruti ritz              1229.671875\n",
       "maruti swift             1240.469388\n",
       "maruti vitara            1248.000000\n",
       "maruti wagon             1017.128000\n",
       "mercedes-benz e-class    2365.897727\n",
       "mercedes-benz new        2067.053191\n",
       "renault duster           1467.602410\n",
       "renault kwid              859.000000\n",
       "skoda rapid              1563.957447\n",
       "skoda superb             1960.081633\n",
       "tata indica              1336.075000\n",
       "toyota corolla           1712.597015\n",
       "toyota etios             1373.566667\n",
       "toyota fortuner          2948.287129\n",
       "toyota innova            2506.176829\n",
       "volkswagen polo          1267.821192\n",
       "volkswagen vento         1557.775701\n",
       "Name: Engine, dtype: float64"
      ]
     },
     "execution_count": 78,
     "metadata": {},
     "output_type": "execute_result"
    }
   ],
   "source": [
    "cars_avg_engine = df3.groupby('Name')['Engine'].mean()\n",
    "cars_avg_engine"
   ]
  },
  {
   "cell_type": "code",
   "execution_count": 79,
   "metadata": {
    "colab": {
     "base_uri": "https://localhost:8080/"
    },
    "id": "tpAH7uUAIeUQ",
    "outputId": "20e22e59-3506-4482-dfd6-ecf9112f125a"
   },
   "outputs": [
    {
     "data": {
      "text/plain": [
       "Name                   0\n",
       "Location               0\n",
       "Year                   0\n",
       "Kilometers_Driven      0\n",
       "Fuel_Type              0\n",
       "Transmission           0\n",
       "Owner_Type             0\n",
       "Mileage               49\n",
       "Engine                32\n",
       "Power                113\n",
       "Seats                 35\n",
       "Price                  0\n",
       "dtype: int64"
      ]
     },
     "execution_count": 79,
     "metadata": {},
     "output_type": "execute_result"
    }
   ],
   "source": [
    "df3.isnull().sum()"
   ]
  },
  {
   "cell_type": "code",
   "execution_count": 80,
   "metadata": {
    "id": "jaBkrqG2IrVE"
   },
   "outputs": [],
   "source": [
    "df3_e0 = df3[df3['Engine'].isnull()]\n",
    "df3_e1 = df3[~df3['Engine'].isnull()]"
   ]
  },
  {
   "cell_type": "code",
   "execution_count": 81,
   "metadata": {
    "colab": {
     "base_uri": "https://localhost:8080/",
     "height": 250
    },
    "id": "Ip60VpAGJEBx",
    "outputId": "e150b190-e933-4bea-9ab7-94e0baa5d02f"
   },
   "outputs": [
    {
     "data": {
      "text/html": [
       "<div>\n",
       "<style scoped>\n",
       "    .dataframe tbody tr th:only-of-type {\n",
       "        vertical-align: middle;\n",
       "    }\n",
       "\n",
       "    .dataframe tbody tr th {\n",
       "        vertical-align: top;\n",
       "    }\n",
       "\n",
       "    .dataframe thead th {\n",
       "        text-align: right;\n",
       "    }\n",
       "</style>\n",
       "<table border=\"1\" class=\"dataframe\">\n",
       "  <thead>\n",
       "    <tr style=\"text-align: right;\">\n",
       "      <th></th>\n",
       "      <th>Name</th>\n",
       "      <th>Location</th>\n",
       "      <th>Year</th>\n",
       "      <th>Kilometers_Driven</th>\n",
       "      <th>Fuel_Type</th>\n",
       "      <th>Transmission</th>\n",
       "      <th>Owner_Type</th>\n",
       "      <th>Mileage</th>\n",
       "      <th>Engine</th>\n",
       "      <th>Power</th>\n",
       "      <th>Seats</th>\n",
       "      <th>Price</th>\n",
       "    </tr>\n",
       "  </thead>\n",
       "  <tbody>\n",
       "    <tr>\n",
       "      <th>194</th>\n",
       "      <td>honda city</td>\n",
       "      <td>Ahmedabad</td>\n",
       "      <td>2007</td>\n",
       "      <td>60006</td>\n",
       "      <td>Petrol</td>\n",
       "      <td>Manual</td>\n",
       "      <td>First</td>\n",
       "      <td>NaN</td>\n",
       "      <td>NaN</td>\n",
       "      <td>NaN</td>\n",
       "      <td>NaN</td>\n",
       "      <td>2.95</td>\n",
       "    </tr>\n",
       "    <tr>\n",
       "      <th>208</th>\n",
       "      <td>maruti swift</td>\n",
       "      <td>Kolkata</td>\n",
       "      <td>2010</td>\n",
       "      <td>42001</td>\n",
       "      <td>Petrol</td>\n",
       "      <td>Manual</td>\n",
       "      <td>First</td>\n",
       "      <td>16.1</td>\n",
       "      <td>NaN</td>\n",
       "      <td>NaN</td>\n",
       "      <td>NaN</td>\n",
       "      <td>2.11</td>\n",
       "    </tr>\n",
       "    <tr>\n",
       "      <th>733</th>\n",
       "      <td>maruti swift</td>\n",
       "      <td>Chennai</td>\n",
       "      <td>2006</td>\n",
       "      <td>97800</td>\n",
       "      <td>Petrol</td>\n",
       "      <td>Manual</td>\n",
       "      <td>Second &amp; above</td>\n",
       "      <td>16.1</td>\n",
       "      <td>NaN</td>\n",
       "      <td>NaN</td>\n",
       "      <td>NaN</td>\n",
       "      <td>1.75</td>\n",
       "    </tr>\n",
       "    <tr>\n",
       "      <th>749</th>\n",
       "      <td>land rover</td>\n",
       "      <td>Mumbai</td>\n",
       "      <td>2008</td>\n",
       "      <td>55001</td>\n",
       "      <td>Diesel</td>\n",
       "      <td>Automatic</td>\n",
       "      <td>Second &amp; above</td>\n",
       "      <td>NaN</td>\n",
       "      <td>NaN</td>\n",
       "      <td>NaN</td>\n",
       "      <td>NaN</td>\n",
       "      <td>26.50</td>\n",
       "    </tr>\n",
       "    <tr>\n",
       "      <th>1294</th>\n",
       "      <td>honda city</td>\n",
       "      <td>Delhi</td>\n",
       "      <td>2009</td>\n",
       "      <td>55005</td>\n",
       "      <td>Petrol</td>\n",
       "      <td>Manual</td>\n",
       "      <td>First</td>\n",
       "      <td>12.8</td>\n",
       "      <td>NaN</td>\n",
       "      <td>NaN</td>\n",
       "      <td>NaN</td>\n",
       "      <td>3.20</td>\n",
       "    </tr>\n",
       "  </tbody>\n",
       "</table>\n",
       "</div>"
      ],
      "text/plain": [
       "              Name   Location  Year  Kilometers_Driven Fuel_Type Transmission  \\\n",
       "194     honda city  Ahmedabad  2007              60006    Petrol       Manual   \n",
       "208   maruti swift    Kolkata  2010              42001    Petrol       Manual   \n",
       "733   maruti swift    Chennai  2006              97800    Petrol       Manual   \n",
       "749     land rover     Mumbai  2008              55001    Diesel    Automatic   \n",
       "1294    honda city      Delhi  2009              55005    Petrol       Manual   \n",
       "\n",
       "          Owner_Type  Mileage  Engine  Power  Seats  Price  \n",
       "194            First      NaN     NaN    NaN    NaN   2.95  \n",
       "208            First     16.1     NaN    NaN    NaN   2.11  \n",
       "733   Second & above     16.1     NaN    NaN    NaN   1.75  \n",
       "749   Second & above      NaN     NaN    NaN    NaN  26.50  \n",
       "1294           First     12.8     NaN    NaN    NaN   3.20  "
      ]
     },
     "execution_count": 81,
     "metadata": {},
     "output_type": "execute_result"
    }
   ],
   "source": [
    "df3_e0.head()"
   ]
  },
  {
   "cell_type": "code",
   "execution_count": 82,
   "metadata": {
    "id": "RuRC_MA4JOFD"
   },
   "outputs": [],
   "source": [
    "def fix_null_engine(name):\n",
    "  return cars_avg_engine[name]"
   ]
  },
  {
   "cell_type": "code",
   "execution_count": 83,
   "metadata": {
    "colab": {
     "base_uri": "https://localhost:8080/"
    },
    "id": "0zPG6qa6JWWg",
    "outputId": "ad8f038a-8608-426c-b1d1-b340bff16819"
   },
   "outputs": [
    {
     "name": "stdout",
     "output_type": "stream",
     "text": [
      "1240.469387755102\n",
      "2475.719298245614\n"
     ]
    }
   ],
   "source": [
    "print(fix_null_engine('maruti swift'))\n",
    "print(fix_null_engine('land rover'))"
   ]
  },
  {
   "cell_type": "code",
   "execution_count": 84,
   "metadata": {
    "colab": {
     "base_uri": "https://localhost:8080/"
    },
    "id": "BOgtmRczJcPN",
    "outputId": "c8b61068-9c17-41f3-8d3d-5339ef3a2915"
   },
   "outputs": [
    {
     "name": "stderr",
     "output_type": "stream",
     "text": [
      "C:\\Users\\Bindhu Sri\\AppData\\Local\\Temp\\ipykernel_10108\\1766126099.py:1: SettingWithCopyWarning: \n",
      "A value is trying to be set on a copy of a slice from a DataFrame.\n",
      "Try using .loc[row_indexer,col_indexer] = value instead\n",
      "\n",
      "See the caveats in the documentation: https://pandas.pydata.org/pandas-docs/stable/user_guide/indexing.html#returning-a-view-versus-a-copy\n",
      "  df3_e0['Engine'] = df3_e0['Name'].apply(fix_null_engine)\n"
     ]
    }
   ],
   "source": [
    "df3_e0['Engine'] = df3_e0['Name'].apply(fix_null_engine)"
   ]
  },
  {
   "cell_type": "code",
   "execution_count": 85,
   "metadata": {
    "colab": {
     "base_uri": "https://localhost:8080/",
     "height": 250
    },
    "id": "ZIUbfoWqJ6A4",
    "outputId": "fdf7c418-9f3b-4d46-bc1d-b21bb6ef2cfb"
   },
   "outputs": [
    {
     "data": {
      "text/html": [
       "<div>\n",
       "<style scoped>\n",
       "    .dataframe tbody tr th:only-of-type {\n",
       "        vertical-align: middle;\n",
       "    }\n",
       "\n",
       "    .dataframe tbody tr th {\n",
       "        vertical-align: top;\n",
       "    }\n",
       "\n",
       "    .dataframe thead th {\n",
       "        text-align: right;\n",
       "    }\n",
       "</style>\n",
       "<table border=\"1\" class=\"dataframe\">\n",
       "  <thead>\n",
       "    <tr style=\"text-align: right;\">\n",
       "      <th></th>\n",
       "      <th>Name</th>\n",
       "      <th>Location</th>\n",
       "      <th>Year</th>\n",
       "      <th>Kilometers_Driven</th>\n",
       "      <th>Fuel_Type</th>\n",
       "      <th>Transmission</th>\n",
       "      <th>Owner_Type</th>\n",
       "      <th>Mileage</th>\n",
       "      <th>Engine</th>\n",
       "      <th>Power</th>\n",
       "      <th>Seats</th>\n",
       "      <th>Price</th>\n",
       "    </tr>\n",
       "  </thead>\n",
       "  <tbody>\n",
       "    <tr>\n",
       "      <th>194</th>\n",
       "      <td>honda city</td>\n",
       "      <td>Ahmedabad</td>\n",
       "      <td>2007</td>\n",
       "      <td>60006</td>\n",
       "      <td>Petrol</td>\n",
       "      <td>Manual</td>\n",
       "      <td>First</td>\n",
       "      <td>NaN</td>\n",
       "      <td>1494.718045</td>\n",
       "      <td>NaN</td>\n",
       "      <td>NaN</td>\n",
       "      <td>2.95</td>\n",
       "    </tr>\n",
       "    <tr>\n",
       "      <th>208</th>\n",
       "      <td>maruti swift</td>\n",
       "      <td>Kolkata</td>\n",
       "      <td>2010</td>\n",
       "      <td>42001</td>\n",
       "      <td>Petrol</td>\n",
       "      <td>Manual</td>\n",
       "      <td>First</td>\n",
       "      <td>16.1</td>\n",
       "      <td>1240.469388</td>\n",
       "      <td>NaN</td>\n",
       "      <td>NaN</td>\n",
       "      <td>2.11</td>\n",
       "    </tr>\n",
       "    <tr>\n",
       "      <th>733</th>\n",
       "      <td>maruti swift</td>\n",
       "      <td>Chennai</td>\n",
       "      <td>2006</td>\n",
       "      <td>97800</td>\n",
       "      <td>Petrol</td>\n",
       "      <td>Manual</td>\n",
       "      <td>Second &amp; above</td>\n",
       "      <td>16.1</td>\n",
       "      <td>1240.469388</td>\n",
       "      <td>NaN</td>\n",
       "      <td>NaN</td>\n",
       "      <td>1.75</td>\n",
       "    </tr>\n",
       "    <tr>\n",
       "      <th>749</th>\n",
       "      <td>land rover</td>\n",
       "      <td>Mumbai</td>\n",
       "      <td>2008</td>\n",
       "      <td>55001</td>\n",
       "      <td>Diesel</td>\n",
       "      <td>Automatic</td>\n",
       "      <td>Second &amp; above</td>\n",
       "      <td>NaN</td>\n",
       "      <td>2475.719298</td>\n",
       "      <td>NaN</td>\n",
       "      <td>NaN</td>\n",
       "      <td>26.50</td>\n",
       "    </tr>\n",
       "    <tr>\n",
       "      <th>1294</th>\n",
       "      <td>honda city</td>\n",
       "      <td>Delhi</td>\n",
       "      <td>2009</td>\n",
       "      <td>55005</td>\n",
       "      <td>Petrol</td>\n",
       "      <td>Manual</td>\n",
       "      <td>First</td>\n",
       "      <td>12.8</td>\n",
       "      <td>1494.718045</td>\n",
       "      <td>NaN</td>\n",
       "      <td>NaN</td>\n",
       "      <td>3.20</td>\n",
       "    </tr>\n",
       "  </tbody>\n",
       "</table>\n",
       "</div>"
      ],
      "text/plain": [
       "              Name   Location  Year  Kilometers_Driven Fuel_Type Transmission  \\\n",
       "194     honda city  Ahmedabad  2007              60006    Petrol       Manual   \n",
       "208   maruti swift    Kolkata  2010              42001    Petrol       Manual   \n",
       "733   maruti swift    Chennai  2006              97800    Petrol       Manual   \n",
       "749     land rover     Mumbai  2008              55001    Diesel    Automatic   \n",
       "1294    honda city      Delhi  2009              55005    Petrol       Manual   \n",
       "\n",
       "          Owner_Type  Mileage       Engine  Power  Seats  Price  \n",
       "194            First      NaN  1494.718045    NaN    NaN   2.95  \n",
       "208            First     16.1  1240.469388    NaN    NaN   2.11  \n",
       "733   Second & above     16.1  1240.469388    NaN    NaN   1.75  \n",
       "749   Second & above      NaN  2475.719298    NaN    NaN  26.50  \n",
       "1294           First     12.8  1494.718045    NaN    NaN   3.20  "
      ]
     },
     "execution_count": 85,
     "metadata": {},
     "output_type": "execute_result"
    }
   ],
   "source": [
    "df5 = pd.concat((df3_e0 , df3_e1))\n",
    "df5.head()"
   ]
  },
  {
   "cell_type": "code",
   "execution_count": 86,
   "metadata": {
    "colab": {
     "base_uri": "https://localhost:8080/"
    },
    "id": "Yd_oNU-SKFRr",
    "outputId": "33cec9e8-6137-4af4-d3b4-adfe01ee1014"
   },
   "outputs": [
    {
     "data": {
      "text/plain": [
       "Name                   0\n",
       "Location               0\n",
       "Year                   0\n",
       "Kilometers_Driven      0\n",
       "Fuel_Type              0\n",
       "Transmission           0\n",
       "Owner_Type             0\n",
       "Mileage               49\n",
       "Engine                 0\n",
       "Power                113\n",
       "Seats                 35\n",
       "Price                  0\n",
       "dtype: int64"
      ]
     },
     "execution_count": 86,
     "metadata": {},
     "output_type": "execute_result"
    }
   ],
   "source": [
    "df5.isnull().sum()"
   ]
  },
  {
   "cell_type": "code",
   "execution_count": 87,
   "metadata": {
    "colab": {
     "base_uri": "https://localhost:8080/"
    },
    "id": "_jCCbIg8Km2W",
    "outputId": "68c451da-72df-4359-a44e-7223958f778f"
   },
   "outputs": [
    {
     "data": {
      "text/plain": [
       "Name\n",
       "audi a4                  163.634416\n",
       "audi a6                  186.290000\n",
       "bmw 3                    186.627347\n",
       "bmw 5                    209.245714\n",
       "chevrolet beat            68.967391\n",
       "ford ecosport            100.524947\n",
       "ford fiesta               74.274324\n",
       "ford figo                 76.110297\n",
       "honda amaze               92.973396\n",
       "honda brio                86.800000\n",
       "honda city               110.782707\n",
       "honda jazz                91.247368\n",
       "hyundai creta            121.831183\n",
       "hyundai eon               55.618333\n",
       "hyundai grand             79.016974\n",
       "hyundai i10               75.927742\n",
       "hyundai i20               84.459312\n",
       "hyundai santro            62.300000\n",
       "hyundai verna            120.294353\n",
       "hyundai xcent             76.877368\n",
       "land rover               189.602105\n",
       "mahindra scorpio         119.095082\n",
       "mahindra xuv500          140.265487\n",
       "maruti alto               53.335821\n",
       "maruti baleno             83.081967\n",
       "maruti celerio            65.608571\n",
       "maruti ciaz               90.603521\n",
       "maruti ertiga             89.833521\n",
       "maruti ritz               78.190313\n",
       "maruti swift              77.881682\n",
       "maruti vitara             88.500000\n",
       "maruti wagon              67.451520\n",
       "mercedes-benz e-class    204.429186\n",
       "mercedes-benz new        174.932128\n",
       "renault duster            98.662048\n",
       "renault kwid              57.410000\n",
       "skoda rapid              103.938723\n",
       "skoda superb             165.235918\n",
       "tata indica               67.681351\n",
       "toyota corolla           126.500597\n",
       "toyota etios              76.909787\n",
       "toyota fortuner          170.152475\n",
       "toyota innova            118.434146\n",
       "volkswagen polo           80.730464\n",
       "volkswagen vento         104.153271\n",
       "Name: Power, dtype: float64"
      ]
     },
     "execution_count": 87,
     "metadata": {},
     "output_type": "execute_result"
    }
   ],
   "source": [
    "cars_avg_power = df5.groupby('Name')['Power'].mean()\n",
    "cars_avg_power"
   ]
  },
  {
   "cell_type": "code",
   "execution_count": 88,
   "metadata": {
    "id": "GACShRyUKKn9"
   },
   "outputs": [],
   "source": [
    "df5_p0 = df5[df5['Power'].isnull()]\n",
    "df5_p1 = df5[~df5['Power'].isnull()]"
   ]
  },
  {
   "cell_type": "code",
   "execution_count": 89,
   "metadata": {
    "colab": {
     "base_uri": "https://localhost:8080/",
     "height": 250
    },
    "id": "ZngxC7EzKXLc",
    "outputId": "64027f0f-29e8-4be0-fed5-bffbba70aab0"
   },
   "outputs": [
    {
     "data": {
      "text/html": [
       "<div>\n",
       "<style scoped>\n",
       "    .dataframe tbody tr th:only-of-type {\n",
       "        vertical-align: middle;\n",
       "    }\n",
       "\n",
       "    .dataframe tbody tr th {\n",
       "        vertical-align: top;\n",
       "    }\n",
       "\n",
       "    .dataframe thead th {\n",
       "        text-align: right;\n",
       "    }\n",
       "</style>\n",
       "<table border=\"1\" class=\"dataframe\">\n",
       "  <thead>\n",
       "    <tr style=\"text-align: right;\">\n",
       "      <th></th>\n",
       "      <th>Name</th>\n",
       "      <th>Location</th>\n",
       "      <th>Year</th>\n",
       "      <th>Kilometers_Driven</th>\n",
       "      <th>Fuel_Type</th>\n",
       "      <th>Transmission</th>\n",
       "      <th>Owner_Type</th>\n",
       "      <th>Mileage</th>\n",
       "      <th>Engine</th>\n",
       "      <th>Power</th>\n",
       "      <th>Seats</th>\n",
       "      <th>Price</th>\n",
       "    </tr>\n",
       "  </thead>\n",
       "  <tbody>\n",
       "    <tr>\n",
       "      <th>194</th>\n",
       "      <td>honda city</td>\n",
       "      <td>Ahmedabad</td>\n",
       "      <td>2007</td>\n",
       "      <td>60006</td>\n",
       "      <td>Petrol</td>\n",
       "      <td>Manual</td>\n",
       "      <td>First</td>\n",
       "      <td>NaN</td>\n",
       "      <td>1494.718045</td>\n",
       "      <td>NaN</td>\n",
       "      <td>NaN</td>\n",
       "      <td>2.95</td>\n",
       "    </tr>\n",
       "    <tr>\n",
       "      <th>208</th>\n",
       "      <td>maruti swift</td>\n",
       "      <td>Kolkata</td>\n",
       "      <td>2010</td>\n",
       "      <td>42001</td>\n",
       "      <td>Petrol</td>\n",
       "      <td>Manual</td>\n",
       "      <td>First</td>\n",
       "      <td>16.1</td>\n",
       "      <td>1240.469388</td>\n",
       "      <td>NaN</td>\n",
       "      <td>NaN</td>\n",
       "      <td>2.11</td>\n",
       "    </tr>\n",
       "    <tr>\n",
       "      <th>733</th>\n",
       "      <td>maruti swift</td>\n",
       "      <td>Chennai</td>\n",
       "      <td>2006</td>\n",
       "      <td>97800</td>\n",
       "      <td>Petrol</td>\n",
       "      <td>Manual</td>\n",
       "      <td>Second &amp; above</td>\n",
       "      <td>16.1</td>\n",
       "      <td>1240.469388</td>\n",
       "      <td>NaN</td>\n",
       "      <td>NaN</td>\n",
       "      <td>1.75</td>\n",
       "    </tr>\n",
       "    <tr>\n",
       "      <th>749</th>\n",
       "      <td>land rover</td>\n",
       "      <td>Mumbai</td>\n",
       "      <td>2008</td>\n",
       "      <td>55001</td>\n",
       "      <td>Diesel</td>\n",
       "      <td>Automatic</td>\n",
       "      <td>Second &amp; above</td>\n",
       "      <td>NaN</td>\n",
       "      <td>2475.719298</td>\n",
       "      <td>NaN</td>\n",
       "      <td>NaN</td>\n",
       "      <td>26.50</td>\n",
       "    </tr>\n",
       "    <tr>\n",
       "      <th>1294</th>\n",
       "      <td>honda city</td>\n",
       "      <td>Delhi</td>\n",
       "      <td>2009</td>\n",
       "      <td>55005</td>\n",
       "      <td>Petrol</td>\n",
       "      <td>Manual</td>\n",
       "      <td>First</td>\n",
       "      <td>12.8</td>\n",
       "      <td>1494.718045</td>\n",
       "      <td>NaN</td>\n",
       "      <td>NaN</td>\n",
       "      <td>3.20</td>\n",
       "    </tr>\n",
       "  </tbody>\n",
       "</table>\n",
       "</div>"
      ],
      "text/plain": [
       "              Name   Location  Year  Kilometers_Driven Fuel_Type Transmission  \\\n",
       "194     honda city  Ahmedabad  2007              60006    Petrol       Manual   \n",
       "208   maruti swift    Kolkata  2010              42001    Petrol       Manual   \n",
       "733   maruti swift    Chennai  2006              97800    Petrol       Manual   \n",
       "749     land rover     Mumbai  2008              55001    Diesel    Automatic   \n",
       "1294    honda city      Delhi  2009              55005    Petrol       Manual   \n",
       "\n",
       "          Owner_Type  Mileage       Engine  Power  Seats  Price  \n",
       "194            First      NaN  1494.718045    NaN    NaN   2.95  \n",
       "208            First     16.1  1240.469388    NaN    NaN   2.11  \n",
       "733   Second & above     16.1  1240.469388    NaN    NaN   1.75  \n",
       "749   Second & above      NaN  2475.719298    NaN    NaN  26.50  \n",
       "1294           First     12.8  1494.718045    NaN    NaN   3.20  "
      ]
     },
     "execution_count": 89,
     "metadata": {},
     "output_type": "execute_result"
    }
   ],
   "source": [
    "df5_p0.head()"
   ]
  },
  {
   "cell_type": "code",
   "execution_count": 90,
   "metadata": {
    "id": "b8oDoQXSKcyd"
   },
   "outputs": [],
   "source": [
    "def fix_missing_power(name):\n",
    "  return cars_avg_power[name]"
   ]
  },
  {
   "cell_type": "code",
   "execution_count": 91,
   "metadata": {
    "colab": {
     "base_uri": "https://localhost:8080/"
    },
    "id": "99I9wbEbK8SM",
    "outputId": "e97352c5-12aa-4d02-888c-4965a2c06881"
   },
   "outputs": [
    {
     "name": "stdout",
     "output_type": "stream",
     "text": [
      "189.60210526315788\n",
      "77.88168195718654\n"
     ]
    }
   ],
   "source": [
    "print(fix_missing_power('land rover'))\n",
    "print(fix_missing_power('maruti swift'))"
   ]
  },
  {
   "cell_type": "code",
   "execution_count": 92,
   "metadata": {
    "colab": {
     "base_uri": "https://localhost:8080/"
    },
    "id": "fVuYod3NLEDG",
    "outputId": "cfd59f52-1c0f-4119-9330-3ffc2a83feac"
   },
   "outputs": [
    {
     "name": "stderr",
     "output_type": "stream",
     "text": [
      "C:\\Users\\Bindhu Sri\\AppData\\Local\\Temp\\ipykernel_10108\\1191897127.py:1: SettingWithCopyWarning: \n",
      "A value is trying to be set on a copy of a slice from a DataFrame.\n",
      "Try using .loc[row_indexer,col_indexer] = value instead\n",
      "\n",
      "See the caveats in the documentation: https://pandas.pydata.org/pandas-docs/stable/user_guide/indexing.html#returning-a-view-versus-a-copy\n",
      "  df5_p0['Power'] = df5_p0['Name'].apply(fix_missing_power)\n"
     ]
    }
   ],
   "source": [
    "df5_p0['Power'] = df5_p0['Name'].apply(fix_missing_power)"
   ]
  },
  {
   "cell_type": "code",
   "execution_count": 93,
   "metadata": {
    "colab": {
     "base_uri": "https://localhost:8080/",
     "height": 337
    },
    "id": "YKJk_LM2LKlj",
    "outputId": "eb3cf583-a0dc-4929-cd46-574ba4abf49e"
   },
   "outputs": [
    {
     "data": {
      "text/html": [
       "<div>\n",
       "<style scoped>\n",
       "    .dataframe tbody tr th:only-of-type {\n",
       "        vertical-align: middle;\n",
       "    }\n",
       "\n",
       "    .dataframe tbody tr th {\n",
       "        vertical-align: top;\n",
       "    }\n",
       "\n",
       "    .dataframe thead th {\n",
       "        text-align: right;\n",
       "    }\n",
       "</style>\n",
       "<table border=\"1\" class=\"dataframe\">\n",
       "  <thead>\n",
       "    <tr style=\"text-align: right;\">\n",
       "      <th></th>\n",
       "      <th>Name</th>\n",
       "      <th>Location</th>\n",
       "      <th>Year</th>\n",
       "      <th>Kilometers_Driven</th>\n",
       "      <th>Fuel_Type</th>\n",
       "      <th>Transmission</th>\n",
       "      <th>Owner_Type</th>\n",
       "      <th>Mileage</th>\n",
       "      <th>Engine</th>\n",
       "      <th>Power</th>\n",
       "      <th>Seats</th>\n",
       "      <th>Price</th>\n",
       "    </tr>\n",
       "  </thead>\n",
       "  <tbody>\n",
       "    <tr>\n",
       "      <th>194</th>\n",
       "      <td>honda city</td>\n",
       "      <td>Ahmedabad</td>\n",
       "      <td>2007</td>\n",
       "      <td>60006</td>\n",
       "      <td>Petrol</td>\n",
       "      <td>Manual</td>\n",
       "      <td>First</td>\n",
       "      <td>NaN</td>\n",
       "      <td>1494.718045</td>\n",
       "      <td>110.782707</td>\n",
       "      <td>NaN</td>\n",
       "      <td>2.95</td>\n",
       "    </tr>\n",
       "    <tr>\n",
       "      <th>208</th>\n",
       "      <td>maruti swift</td>\n",
       "      <td>Kolkata</td>\n",
       "      <td>2010</td>\n",
       "      <td>42001</td>\n",
       "      <td>Petrol</td>\n",
       "      <td>Manual</td>\n",
       "      <td>First</td>\n",
       "      <td>16.1</td>\n",
       "      <td>1240.469388</td>\n",
       "      <td>77.881682</td>\n",
       "      <td>NaN</td>\n",
       "      <td>2.11</td>\n",
       "    </tr>\n",
       "    <tr>\n",
       "      <th>733</th>\n",
       "      <td>maruti swift</td>\n",
       "      <td>Chennai</td>\n",
       "      <td>2006</td>\n",
       "      <td>97800</td>\n",
       "      <td>Petrol</td>\n",
       "      <td>Manual</td>\n",
       "      <td>Second &amp; above</td>\n",
       "      <td>16.1</td>\n",
       "      <td>1240.469388</td>\n",
       "      <td>77.881682</td>\n",
       "      <td>NaN</td>\n",
       "      <td>1.75</td>\n",
       "    </tr>\n",
       "    <tr>\n",
       "      <th>749</th>\n",
       "      <td>land rover</td>\n",
       "      <td>Mumbai</td>\n",
       "      <td>2008</td>\n",
       "      <td>55001</td>\n",
       "      <td>Diesel</td>\n",
       "      <td>Automatic</td>\n",
       "      <td>Second &amp; above</td>\n",
       "      <td>NaN</td>\n",
       "      <td>2475.719298</td>\n",
       "      <td>189.602105</td>\n",
       "      <td>NaN</td>\n",
       "      <td>26.50</td>\n",
       "    </tr>\n",
       "    <tr>\n",
       "      <th>1294</th>\n",
       "      <td>honda city</td>\n",
       "      <td>Delhi</td>\n",
       "      <td>2009</td>\n",
       "      <td>55005</td>\n",
       "      <td>Petrol</td>\n",
       "      <td>Manual</td>\n",
       "      <td>First</td>\n",
       "      <td>12.8</td>\n",
       "      <td>1494.718045</td>\n",
       "      <td>110.782707</td>\n",
       "      <td>NaN</td>\n",
       "      <td>3.20</td>\n",
       "    </tr>\n",
       "  </tbody>\n",
       "</table>\n",
       "</div>"
      ],
      "text/plain": [
       "              Name   Location  Year  Kilometers_Driven Fuel_Type Transmission  \\\n",
       "194     honda city  Ahmedabad  2007              60006    Petrol       Manual   \n",
       "208   maruti swift    Kolkata  2010              42001    Petrol       Manual   \n",
       "733   maruti swift    Chennai  2006              97800    Petrol       Manual   \n",
       "749     land rover     Mumbai  2008              55001    Diesel    Automatic   \n",
       "1294    honda city      Delhi  2009              55005    Petrol       Manual   \n",
       "\n",
       "          Owner_Type  Mileage       Engine       Power  Seats  Price  \n",
       "194            First      NaN  1494.718045  110.782707    NaN   2.95  \n",
       "208            First     16.1  1240.469388   77.881682    NaN   2.11  \n",
       "733   Second & above     16.1  1240.469388   77.881682    NaN   1.75  \n",
       "749   Second & above      NaN  2475.719298  189.602105    NaN  26.50  \n",
       "1294           First     12.8  1494.718045  110.782707    NaN   3.20  "
      ]
     },
     "execution_count": 93,
     "metadata": {},
     "output_type": "execute_result"
    }
   ],
   "source": [
    "df6 = pd.concat((df5_p0,df5_p1))\n",
    "df6.head()"
   ]
  },
  {
   "cell_type": "code",
   "execution_count": 94,
   "metadata": {
    "colab": {
     "base_uri": "https://localhost:8080/"
    },
    "id": "jJERfE3bLY_Z",
    "outputId": "8f76b04e-e056-4a55-d67e-d46a9a3315e2"
   },
   "outputs": [
    {
     "name": "stdout",
     "output_type": "stream",
     "text": [
      "(4384, 12)\n"
     ]
    }
   ],
   "source": [
    "print(df3.shape)"
   ]
  },
  {
   "cell_type": "code",
   "execution_count": 95,
   "metadata": {
    "colab": {
     "base_uri": "https://localhost:8080/"
    },
    "id": "iWMIfCWBLedC",
    "outputId": "a923dcd0-a770-404b-e3de-5114bff44096"
   },
   "outputs": [
    {
     "data": {
      "text/plain": [
       "Name                  0\n",
       "Location              0\n",
       "Year                  0\n",
       "Kilometers_Driven     0\n",
       "Fuel_Type             0\n",
       "Transmission          0\n",
       "Owner_Type            0\n",
       "Mileage              49\n",
       "Engine                0\n",
       "Power                 0\n",
       "Seats                35\n",
       "Price                 0\n",
       "dtype: int64"
      ]
     },
     "execution_count": 95,
     "metadata": {},
     "output_type": "execute_result"
    }
   ],
   "source": [
    "df6.isnull().sum()"
   ]
  },
  {
   "cell_type": "code",
   "execution_count": 96,
   "metadata": {
    "colab": {
     "base_uri": "https://localhost:8080/"
    },
    "id": "P5mWUtKULpSZ",
    "outputId": "06f90dd1-2717-4375-fd3d-cf905a1134c2"
   },
   "outputs": [
    {
     "data": {
      "text/plain": [
       "Name\n",
       "audi a4                  16.400897\n",
       "audi a6                  16.581837\n",
       "bmw 3                    18.143776\n",
       "bmw 5                    17.442059\n",
       "chevrolet beat           21.687826\n",
       "ford ecosport            20.783474\n",
       "ford fiesta              18.067750\n",
       "ford figo                19.629800\n",
       "honda amaze              22.054717\n",
       "honda brio               18.661667\n",
       "honda city               18.420225\n",
       "honda jazz               20.470690\n",
       "hyundai creta            17.559247\n",
       "hyundai eon              21.118333\n",
       "hyundai grand            20.242105\n",
       "hyundai i10              19.736323\n",
       "hyundai i20              19.542389\n",
       "hyundai santro           17.472857\n",
       "hyundai verna            19.402059\n",
       "hyundai xcent            21.707018\n",
       "land rover               12.893137\n",
       "mahindra scorpio         12.776393\n",
       "mahindra xuv500          15.550442\n",
       "maruti alto              22.081940\n",
       "maruti baleno            22.244677\n",
       "maruti celerio           23.422857\n",
       "maruti ciaz              24.249577\n",
       "maruti ertiga            21.041831\n",
       "maruti ritz              21.150938\n",
       "maruti swift             21.510737\n",
       "maruti vitara            24.300000\n",
       "maruti wagon             19.613016\n",
       "mercedes-benz e-class    12.613068\n",
       "mercedes-benz new        15.722258\n",
       "renault duster           19.313012\n",
       "renault kwid             24.358750\n",
       "skoda rapid              18.229574\n",
       "skoda superb             14.363617\n",
       "tata indica              19.978500\n",
       "toyota corolla           15.408507\n",
       "toyota etios             20.789180\n",
       "toyota fortuner          12.420000\n",
       "toyota innova            12.764085\n",
       "volkswagen polo          18.586689\n",
       "volkswagen vento         18.361589\n",
       "Name: Mileage, dtype: float64"
      ]
     },
     "execution_count": 96,
     "metadata": {},
     "output_type": "execute_result"
    }
   ],
   "source": [
    "avg_cars_mileage = df6.groupby('Name')['Mileage'].mean()\n",
    "avg_cars_mileage"
   ]
  },
  {
   "cell_type": "code",
   "execution_count": 97,
   "metadata": {
    "id": "qd6w_lXOL0ir"
   },
   "outputs": [],
   "source": [
    "df6_m0 = df6[df6['Mileage'].isnull()]\n",
    "df6_m1 = df6[~df6['Mileage'].isnull()]"
   ]
  },
  {
   "cell_type": "code",
   "execution_count": 98,
   "metadata": {
    "colab": {
     "base_uri": "https://localhost:8080/",
     "height": 337
    },
    "id": "zIasuaU0M2ss",
    "outputId": "bc77f416-429a-4082-be45-4de745b1e626"
   },
   "outputs": [
    {
     "data": {
      "text/html": [
       "<div>\n",
       "<style scoped>\n",
       "    .dataframe tbody tr th:only-of-type {\n",
       "        vertical-align: middle;\n",
       "    }\n",
       "\n",
       "    .dataframe tbody tr th {\n",
       "        vertical-align: top;\n",
       "    }\n",
       "\n",
       "    .dataframe thead th {\n",
       "        text-align: right;\n",
       "    }\n",
       "</style>\n",
       "<table border=\"1\" class=\"dataframe\">\n",
       "  <thead>\n",
       "    <tr style=\"text-align: right;\">\n",
       "      <th></th>\n",
       "      <th>Name</th>\n",
       "      <th>Location</th>\n",
       "      <th>Year</th>\n",
       "      <th>Kilometers_Driven</th>\n",
       "      <th>Fuel_Type</th>\n",
       "      <th>Transmission</th>\n",
       "      <th>Owner_Type</th>\n",
       "      <th>Mileage</th>\n",
       "      <th>Engine</th>\n",
       "      <th>Power</th>\n",
       "      <th>Seats</th>\n",
       "      <th>Price</th>\n",
       "    </tr>\n",
       "  </thead>\n",
       "  <tbody>\n",
       "    <tr>\n",
       "      <th>194</th>\n",
       "      <td>honda city</td>\n",
       "      <td>Ahmedabad</td>\n",
       "      <td>2007</td>\n",
       "      <td>60006</td>\n",
       "      <td>Petrol</td>\n",
       "      <td>Manual</td>\n",
       "      <td>First</td>\n",
       "      <td>NaN</td>\n",
       "      <td>1494.718045</td>\n",
       "      <td>110.782707</td>\n",
       "      <td>NaN</td>\n",
       "      <td>2.95</td>\n",
       "    </tr>\n",
       "    <tr>\n",
       "      <th>749</th>\n",
       "      <td>land rover</td>\n",
       "      <td>Mumbai</td>\n",
       "      <td>2008</td>\n",
       "      <td>55001</td>\n",
       "      <td>Diesel</td>\n",
       "      <td>Automatic</td>\n",
       "      <td>Second &amp; above</td>\n",
       "      <td>NaN</td>\n",
       "      <td>2475.719298</td>\n",
       "      <td>189.602105</td>\n",
       "      <td>NaN</td>\n",
       "      <td>26.50</td>\n",
       "    </tr>\n",
       "    <tr>\n",
       "      <th>1385</th>\n",
       "      <td>honda city</td>\n",
       "      <td>Pune</td>\n",
       "      <td>2004</td>\n",
       "      <td>115000</td>\n",
       "      <td>Petrol</td>\n",
       "      <td>Manual</td>\n",
       "      <td>Second &amp; above</td>\n",
       "      <td>NaN</td>\n",
       "      <td>1494.718045</td>\n",
       "      <td>110.782707</td>\n",
       "      <td>NaN</td>\n",
       "      <td>1.50</td>\n",
       "    </tr>\n",
       "    <tr>\n",
       "      <th>1460</th>\n",
       "      <td>land rover</td>\n",
       "      <td>Coimbatore</td>\n",
       "      <td>2008</td>\n",
       "      <td>69078</td>\n",
       "      <td>Petrol</td>\n",
       "      <td>Manual</td>\n",
       "      <td>First</td>\n",
       "      <td>NaN</td>\n",
       "      <td>2475.719298</td>\n",
       "      <td>189.602105</td>\n",
       "      <td>NaN</td>\n",
       "      <td>40.88</td>\n",
       "    </tr>\n",
       "    <tr>\n",
       "      <th>2096</th>\n",
       "      <td>hyundai santro</td>\n",
       "      <td>Coimbatore</td>\n",
       "      <td>2004</td>\n",
       "      <td>52146</td>\n",
       "      <td>Petrol</td>\n",
       "      <td>Manual</td>\n",
       "      <td>First</td>\n",
       "      <td>NaN</td>\n",
       "      <td>1076.910448</td>\n",
       "      <td>62.300000</td>\n",
       "      <td>NaN</td>\n",
       "      <td>1.93</td>\n",
       "    </tr>\n",
       "  </tbody>\n",
       "</table>\n",
       "</div>"
      ],
      "text/plain": [
       "                Name    Location  Year  Kilometers_Driven Fuel_Type  \\\n",
       "194       honda city   Ahmedabad  2007              60006    Petrol   \n",
       "749       land rover      Mumbai  2008              55001    Diesel   \n",
       "1385      honda city        Pune  2004             115000    Petrol   \n",
       "1460      land rover  Coimbatore  2008              69078    Petrol   \n",
       "2096  hyundai santro  Coimbatore  2004              52146    Petrol   \n",
       "\n",
       "     Transmission      Owner_Type  Mileage       Engine       Power  Seats  \\\n",
       "194        Manual           First      NaN  1494.718045  110.782707    NaN   \n",
       "749     Automatic  Second & above      NaN  2475.719298  189.602105    NaN   \n",
       "1385       Manual  Second & above      NaN  1494.718045  110.782707    NaN   \n",
       "1460       Manual           First      NaN  2475.719298  189.602105    NaN   \n",
       "2096       Manual           First      NaN  1076.910448   62.300000    NaN   \n",
       "\n",
       "      Price  \n",
       "194    2.95  \n",
       "749   26.50  \n",
       "1385   1.50  \n",
       "1460  40.88  \n",
       "2096   1.93  "
      ]
     },
     "execution_count": 98,
     "metadata": {},
     "output_type": "execute_result"
    }
   ],
   "source": [
    "df6_m0.head()"
   ]
  },
  {
   "cell_type": "code",
   "execution_count": 99,
   "metadata": {
    "id": "CZVwHH5JM4V7"
   },
   "outputs": [],
   "source": [
    "def fix_missing_mileage(name):\n",
    "  return avg_cars_mileage[name]"
   ]
  },
  {
   "cell_type": "code",
   "execution_count": 100,
   "metadata": {
    "colab": {
     "base_uri": "https://localhost:8080/"
    },
    "id": "J1nZMXGLNAYD",
    "outputId": "337d05e9-8511-4b45-8ddd-dc4fed965f5f"
   },
   "outputs": [
    {
     "name": "stderr",
     "output_type": "stream",
     "text": [
      "C:\\Users\\Bindhu Sri\\AppData\\Local\\Temp\\ipykernel_10108\\3263825463.py:1: SettingWithCopyWarning: \n",
      "A value is trying to be set on a copy of a slice from a DataFrame.\n",
      "Try using .loc[row_indexer,col_indexer] = value instead\n",
      "\n",
      "See the caveats in the documentation: https://pandas.pydata.org/pandas-docs/stable/user_guide/indexing.html#returning-a-view-versus-a-copy\n",
      "  df6_m0['Mileage'] = df6_m0['Name'].apply(fix_missing_mileage)\n"
     ]
    }
   ],
   "source": [
    "df6_m0['Mileage'] = df6_m0['Name'].apply(fix_missing_mileage)"
   ]
  },
  {
   "cell_type": "code",
   "execution_count": 101,
   "metadata": {
    "colab": {
     "base_uri": "https://localhost:8080/",
     "height": 337
    },
    "id": "tVLz9vrHNFrw",
    "outputId": "0c0f6eb4-4558-4253-e010-ea06294c0920"
   },
   "outputs": [
    {
     "data": {
      "text/html": [
       "<div>\n",
       "<style scoped>\n",
       "    .dataframe tbody tr th:only-of-type {\n",
       "        vertical-align: middle;\n",
       "    }\n",
       "\n",
       "    .dataframe tbody tr th {\n",
       "        vertical-align: top;\n",
       "    }\n",
       "\n",
       "    .dataframe thead th {\n",
       "        text-align: right;\n",
       "    }\n",
       "</style>\n",
       "<table border=\"1\" class=\"dataframe\">\n",
       "  <thead>\n",
       "    <tr style=\"text-align: right;\">\n",
       "      <th></th>\n",
       "      <th>Name</th>\n",
       "      <th>Location</th>\n",
       "      <th>Year</th>\n",
       "      <th>Kilometers_Driven</th>\n",
       "      <th>Fuel_Type</th>\n",
       "      <th>Transmission</th>\n",
       "      <th>Owner_Type</th>\n",
       "      <th>Mileage</th>\n",
       "      <th>Engine</th>\n",
       "      <th>Power</th>\n",
       "      <th>Seats</th>\n",
       "      <th>Price</th>\n",
       "    </tr>\n",
       "  </thead>\n",
       "  <tbody>\n",
       "    <tr>\n",
       "      <th>194</th>\n",
       "      <td>honda city</td>\n",
       "      <td>Ahmedabad</td>\n",
       "      <td>2007</td>\n",
       "      <td>60006</td>\n",
       "      <td>Petrol</td>\n",
       "      <td>Manual</td>\n",
       "      <td>First</td>\n",
       "      <td>18.420225</td>\n",
       "      <td>1494.718045</td>\n",
       "      <td>110.782707</td>\n",
       "      <td>NaN</td>\n",
       "      <td>2.95</td>\n",
       "    </tr>\n",
       "    <tr>\n",
       "      <th>749</th>\n",
       "      <td>land rover</td>\n",
       "      <td>Mumbai</td>\n",
       "      <td>2008</td>\n",
       "      <td>55001</td>\n",
       "      <td>Diesel</td>\n",
       "      <td>Automatic</td>\n",
       "      <td>Second &amp; above</td>\n",
       "      <td>12.893137</td>\n",
       "      <td>2475.719298</td>\n",
       "      <td>189.602105</td>\n",
       "      <td>NaN</td>\n",
       "      <td>26.50</td>\n",
       "    </tr>\n",
       "    <tr>\n",
       "      <th>1385</th>\n",
       "      <td>honda city</td>\n",
       "      <td>Pune</td>\n",
       "      <td>2004</td>\n",
       "      <td>115000</td>\n",
       "      <td>Petrol</td>\n",
       "      <td>Manual</td>\n",
       "      <td>Second &amp; above</td>\n",
       "      <td>18.420225</td>\n",
       "      <td>1494.718045</td>\n",
       "      <td>110.782707</td>\n",
       "      <td>NaN</td>\n",
       "      <td>1.50</td>\n",
       "    </tr>\n",
       "    <tr>\n",
       "      <th>1460</th>\n",
       "      <td>land rover</td>\n",
       "      <td>Coimbatore</td>\n",
       "      <td>2008</td>\n",
       "      <td>69078</td>\n",
       "      <td>Petrol</td>\n",
       "      <td>Manual</td>\n",
       "      <td>First</td>\n",
       "      <td>12.893137</td>\n",
       "      <td>2475.719298</td>\n",
       "      <td>189.602105</td>\n",
       "      <td>NaN</td>\n",
       "      <td>40.88</td>\n",
       "    </tr>\n",
       "    <tr>\n",
       "      <th>2096</th>\n",
       "      <td>hyundai santro</td>\n",
       "      <td>Coimbatore</td>\n",
       "      <td>2004</td>\n",
       "      <td>52146</td>\n",
       "      <td>Petrol</td>\n",
       "      <td>Manual</td>\n",
       "      <td>First</td>\n",
       "      <td>17.472857</td>\n",
       "      <td>1076.910448</td>\n",
       "      <td>62.300000</td>\n",
       "      <td>NaN</td>\n",
       "      <td>1.93</td>\n",
       "    </tr>\n",
       "  </tbody>\n",
       "</table>\n",
       "</div>"
      ],
      "text/plain": [
       "                Name    Location  Year  Kilometers_Driven Fuel_Type  \\\n",
       "194       honda city   Ahmedabad  2007              60006    Petrol   \n",
       "749       land rover      Mumbai  2008              55001    Diesel   \n",
       "1385      honda city        Pune  2004             115000    Petrol   \n",
       "1460      land rover  Coimbatore  2008              69078    Petrol   \n",
       "2096  hyundai santro  Coimbatore  2004              52146    Petrol   \n",
       "\n",
       "     Transmission      Owner_Type    Mileage       Engine       Power  Seats  \\\n",
       "194        Manual           First  18.420225  1494.718045  110.782707    NaN   \n",
       "749     Automatic  Second & above  12.893137  2475.719298  189.602105    NaN   \n",
       "1385       Manual  Second & above  18.420225  1494.718045  110.782707    NaN   \n",
       "1460       Manual           First  12.893137  2475.719298  189.602105    NaN   \n",
       "2096       Manual           First  17.472857  1076.910448   62.300000    NaN   \n",
       "\n",
       "      Price  \n",
       "194    2.95  \n",
       "749   26.50  \n",
       "1385   1.50  \n",
       "1460  40.88  \n",
       "2096   1.93  "
      ]
     },
     "execution_count": 101,
     "metadata": {},
     "output_type": "execute_result"
    }
   ],
   "source": [
    "df7 = pd.concat((df6_m0,df6_m1))\n",
    "df7.head()"
   ]
  },
  {
   "cell_type": "code",
   "execution_count": 102,
   "metadata": {
    "colab": {
     "base_uri": "https://localhost:8080/"
    },
    "id": "k6ElJe8MNRCQ",
    "outputId": "1a28413d-8254-434a-860e-55274f45b3ba"
   },
   "outputs": [
    {
     "data": {
      "text/plain": [
       "Name                  0\n",
       "Location              0\n",
       "Year                  0\n",
       "Kilometers_Driven     0\n",
       "Fuel_Type             0\n",
       "Transmission          0\n",
       "Owner_Type            0\n",
       "Mileage               0\n",
       "Engine                0\n",
       "Power                 0\n",
       "Seats                35\n",
       "Price                 0\n",
       "dtype: int64"
      ]
     },
     "execution_count": 102,
     "metadata": {},
     "output_type": "execute_result"
    }
   ],
   "source": [
    "df7.isnull().sum()"
   ]
  },
  {
   "cell_type": "code",
   "execution_count": 103,
   "metadata": {
    "colab": {
     "base_uri": "https://localhost:8080/"
    },
    "id": "-nU-33htNhnI",
    "outputId": "8355f0df-8af9-43e7-d925-917bad931c75"
   },
   "outputs": [
    {
     "data": {
      "text/plain": [
       "Name\n",
       "audi a4                  5.0\n",
       "audi a6                  5.0\n",
       "bmw 3                    5.0\n",
       "bmw 5                    5.0\n",
       "chevrolet beat           5.0\n",
       "ford ecosport            5.0\n",
       "ford fiesta              5.0\n",
       "ford figo                5.0\n",
       "honda amaze              5.0\n",
       "honda brio               5.0\n",
       "honda city               5.0\n",
       "honda jazz               5.0\n",
       "hyundai creta            5.0\n",
       "hyundai eon              5.0\n",
       "hyundai grand            5.0\n",
       "hyundai i10              5.0\n",
       "hyundai i20              5.0\n",
       "hyundai santro           5.0\n",
       "hyundai verna            5.0\n",
       "hyundai xcent            5.0\n",
       "land rover               7.0\n",
       "mahindra scorpio         9.0\n",
       "mahindra xuv500          7.0\n",
       "maruti alto              5.0\n",
       "maruti baleno            5.0\n",
       "maruti celerio           5.0\n",
       "maruti ciaz              5.0\n",
       "maruti ertiga            7.0\n",
       "maruti ritz              5.0\n",
       "maruti swift             5.0\n",
       "maruti vitara            5.0\n",
       "maruti wagon             5.0\n",
       "mercedes-benz e-class    5.0\n",
       "mercedes-benz new        5.0\n",
       "renault duster           5.0\n",
       "renault kwid             5.0\n",
       "skoda rapid              5.0\n",
       "skoda superb             5.0\n",
       "tata indica              5.0\n",
       "toyota corolla           5.0\n",
       "toyota etios             5.0\n",
       "toyota fortuner          7.0\n",
       "toyota innova            8.0\n",
       "volkswagen polo          5.0\n",
       "volkswagen vento         5.0\n",
       "Name: Seats, dtype: float64"
      ]
     },
     "execution_count": 103,
     "metadata": {},
     "output_type": "execute_result"
    }
   ],
   "source": [
    "cars_max_seats = df7.groupby('Name')['Seats'].max()\n",
    "cars_max_seats"
   ]
  },
  {
   "cell_type": "code",
   "execution_count": 104,
   "metadata": {
    "id": "JBjifGvHNu44"
   },
   "outputs": [],
   "source": [
    "df7_s0 = df7[df7['Seats'].isnull()]\n",
    "df7_s1 = df7[~df7['Seats'].isnull()]"
   ]
  },
  {
   "cell_type": "code",
   "execution_count": 105,
   "metadata": {
    "colab": {
     "base_uri": "https://localhost:8080/",
     "height": 337
    },
    "id": "hWkB8CozN9jx",
    "outputId": "427dda14-27bd-449b-ad69-0cf163130e99"
   },
   "outputs": [
    {
     "data": {
      "text/html": [
       "<div>\n",
       "<style scoped>\n",
       "    .dataframe tbody tr th:only-of-type {\n",
       "        vertical-align: middle;\n",
       "    }\n",
       "\n",
       "    .dataframe tbody tr th {\n",
       "        vertical-align: top;\n",
       "    }\n",
       "\n",
       "    .dataframe thead th {\n",
       "        text-align: right;\n",
       "    }\n",
       "</style>\n",
       "<table border=\"1\" class=\"dataframe\">\n",
       "  <thead>\n",
       "    <tr style=\"text-align: right;\">\n",
       "      <th></th>\n",
       "      <th>Name</th>\n",
       "      <th>Location</th>\n",
       "      <th>Year</th>\n",
       "      <th>Kilometers_Driven</th>\n",
       "      <th>Fuel_Type</th>\n",
       "      <th>Transmission</th>\n",
       "      <th>Owner_Type</th>\n",
       "      <th>Mileage</th>\n",
       "      <th>Engine</th>\n",
       "      <th>Power</th>\n",
       "      <th>Seats</th>\n",
       "      <th>Price</th>\n",
       "    </tr>\n",
       "  </thead>\n",
       "  <tbody>\n",
       "    <tr>\n",
       "      <th>194</th>\n",
       "      <td>honda city</td>\n",
       "      <td>Ahmedabad</td>\n",
       "      <td>2007</td>\n",
       "      <td>60006</td>\n",
       "      <td>Petrol</td>\n",
       "      <td>Manual</td>\n",
       "      <td>First</td>\n",
       "      <td>18.420225</td>\n",
       "      <td>1494.718045</td>\n",
       "      <td>110.782707</td>\n",
       "      <td>NaN</td>\n",
       "      <td>2.95</td>\n",
       "    </tr>\n",
       "    <tr>\n",
       "      <th>749</th>\n",
       "      <td>land rover</td>\n",
       "      <td>Mumbai</td>\n",
       "      <td>2008</td>\n",
       "      <td>55001</td>\n",
       "      <td>Diesel</td>\n",
       "      <td>Automatic</td>\n",
       "      <td>Second &amp; above</td>\n",
       "      <td>12.893137</td>\n",
       "      <td>2475.719298</td>\n",
       "      <td>189.602105</td>\n",
       "      <td>NaN</td>\n",
       "      <td>26.50</td>\n",
       "    </tr>\n",
       "    <tr>\n",
       "      <th>1385</th>\n",
       "      <td>honda city</td>\n",
       "      <td>Pune</td>\n",
       "      <td>2004</td>\n",
       "      <td>115000</td>\n",
       "      <td>Petrol</td>\n",
       "      <td>Manual</td>\n",
       "      <td>Second &amp; above</td>\n",
       "      <td>18.420225</td>\n",
       "      <td>1494.718045</td>\n",
       "      <td>110.782707</td>\n",
       "      <td>NaN</td>\n",
       "      <td>1.50</td>\n",
       "    </tr>\n",
       "    <tr>\n",
       "      <th>1460</th>\n",
       "      <td>land rover</td>\n",
       "      <td>Coimbatore</td>\n",
       "      <td>2008</td>\n",
       "      <td>69078</td>\n",
       "      <td>Petrol</td>\n",
       "      <td>Manual</td>\n",
       "      <td>First</td>\n",
       "      <td>12.893137</td>\n",
       "      <td>2475.719298</td>\n",
       "      <td>189.602105</td>\n",
       "      <td>NaN</td>\n",
       "      <td>40.88</td>\n",
       "    </tr>\n",
       "    <tr>\n",
       "      <th>2096</th>\n",
       "      <td>hyundai santro</td>\n",
       "      <td>Coimbatore</td>\n",
       "      <td>2004</td>\n",
       "      <td>52146</td>\n",
       "      <td>Petrol</td>\n",
       "      <td>Manual</td>\n",
       "      <td>First</td>\n",
       "      <td>17.472857</td>\n",
       "      <td>1076.910448</td>\n",
       "      <td>62.300000</td>\n",
       "      <td>NaN</td>\n",
       "      <td>1.93</td>\n",
       "    </tr>\n",
       "  </tbody>\n",
       "</table>\n",
       "</div>"
      ],
      "text/plain": [
       "                Name    Location  Year  Kilometers_Driven Fuel_Type  \\\n",
       "194       honda city   Ahmedabad  2007              60006    Petrol   \n",
       "749       land rover      Mumbai  2008              55001    Diesel   \n",
       "1385      honda city        Pune  2004             115000    Petrol   \n",
       "1460      land rover  Coimbatore  2008              69078    Petrol   \n",
       "2096  hyundai santro  Coimbatore  2004              52146    Petrol   \n",
       "\n",
       "     Transmission      Owner_Type    Mileage       Engine       Power  Seats  \\\n",
       "194        Manual           First  18.420225  1494.718045  110.782707    NaN   \n",
       "749     Automatic  Second & above  12.893137  2475.719298  189.602105    NaN   \n",
       "1385       Manual  Second & above  18.420225  1494.718045  110.782707    NaN   \n",
       "1460       Manual           First  12.893137  2475.719298  189.602105    NaN   \n",
       "2096       Manual           First  17.472857  1076.910448   62.300000    NaN   \n",
       "\n",
       "      Price  \n",
       "194    2.95  \n",
       "749   26.50  \n",
       "1385   1.50  \n",
       "1460  40.88  \n",
       "2096   1.93  "
      ]
     },
     "execution_count": 105,
     "metadata": {},
     "output_type": "execute_result"
    }
   ],
   "source": [
    "df7_s0.head()"
   ]
  },
  {
   "cell_type": "code",
   "execution_count": 106,
   "metadata": {
    "id": "DOzjEsoBONSP"
   },
   "outputs": [],
   "source": [
    "def fix_missing_seats(name):\n",
    "  return cars_max_seats[name]"
   ]
  },
  {
   "cell_type": "code",
   "execution_count": 107,
   "metadata": {
    "colab": {
     "base_uri": "https://localhost:8080/"
    },
    "id": "2unL0-i8OHzy",
    "outputId": "37df1e7a-4c67-4004-fb2c-675b04084115"
   },
   "outputs": [
    {
     "name": "stderr",
     "output_type": "stream",
     "text": [
      "C:\\Users\\Bindhu Sri\\AppData\\Local\\Temp\\ipykernel_10108\\1746190141.py:1: SettingWithCopyWarning: \n",
      "A value is trying to be set on a copy of a slice from a DataFrame.\n",
      "Try using .loc[row_indexer,col_indexer] = value instead\n",
      "\n",
      "See the caveats in the documentation: https://pandas.pydata.org/pandas-docs/stable/user_guide/indexing.html#returning-a-view-versus-a-copy\n",
      "  df7_s0['Seats'] = df7_s0['Name'].apply(fix_missing_seats)\n"
     ]
    }
   ],
   "source": [
    "df7_s0['Seats'] = df7_s0['Name'].apply(fix_missing_seats)"
   ]
  },
  {
   "cell_type": "code",
   "execution_count": 108,
   "metadata": {
    "colab": {
     "base_uri": "https://localhost:8080/",
     "height": 302
    },
    "id": "0woam_EQOV_n",
    "outputId": "eaf06133-bba0-4634-9031-6fc3b4295d36"
   },
   "outputs": [
    {
     "data": {
      "text/html": [
       "<div>\n",
       "<style scoped>\n",
       "    .dataframe tbody tr th:only-of-type {\n",
       "        vertical-align: middle;\n",
       "    }\n",
       "\n",
       "    .dataframe tbody tr th {\n",
       "        vertical-align: top;\n",
       "    }\n",
       "\n",
       "    .dataframe thead th {\n",
       "        text-align: right;\n",
       "    }\n",
       "</style>\n",
       "<table border=\"1\" class=\"dataframe\">\n",
       "  <thead>\n",
       "    <tr style=\"text-align: right;\">\n",
       "      <th></th>\n",
       "      <th>Name</th>\n",
       "      <th>Location</th>\n",
       "      <th>Year</th>\n",
       "      <th>Kilometers_Driven</th>\n",
       "      <th>Fuel_Type</th>\n",
       "      <th>Transmission</th>\n",
       "      <th>Owner_Type</th>\n",
       "      <th>Mileage</th>\n",
       "      <th>Engine</th>\n",
       "      <th>Power</th>\n",
       "      <th>Seats</th>\n",
       "      <th>Price</th>\n",
       "    </tr>\n",
       "  </thead>\n",
       "  <tbody>\n",
       "    <tr>\n",
       "      <th>0</th>\n",
       "      <td>honda city</td>\n",
       "      <td>Ahmedabad</td>\n",
       "      <td>2007</td>\n",
       "      <td>60006</td>\n",
       "      <td>Petrol</td>\n",
       "      <td>Manual</td>\n",
       "      <td>First</td>\n",
       "      <td>18.420225</td>\n",
       "      <td>1494.718045</td>\n",
       "      <td>110.782707</td>\n",
       "      <td>5.0</td>\n",
       "      <td>2.95</td>\n",
       "    </tr>\n",
       "    <tr>\n",
       "      <th>1</th>\n",
       "      <td>land rover</td>\n",
       "      <td>Mumbai</td>\n",
       "      <td>2008</td>\n",
       "      <td>55001</td>\n",
       "      <td>Diesel</td>\n",
       "      <td>Automatic</td>\n",
       "      <td>Second &amp; above</td>\n",
       "      <td>12.893137</td>\n",
       "      <td>2475.719298</td>\n",
       "      <td>189.602105</td>\n",
       "      <td>7.0</td>\n",
       "      <td>26.50</td>\n",
       "    </tr>\n",
       "    <tr>\n",
       "      <th>2</th>\n",
       "      <td>honda city</td>\n",
       "      <td>Pune</td>\n",
       "      <td>2004</td>\n",
       "      <td>115000</td>\n",
       "      <td>Petrol</td>\n",
       "      <td>Manual</td>\n",
       "      <td>Second &amp; above</td>\n",
       "      <td>18.420225</td>\n",
       "      <td>1494.718045</td>\n",
       "      <td>110.782707</td>\n",
       "      <td>5.0</td>\n",
       "      <td>1.50</td>\n",
       "    </tr>\n",
       "    <tr>\n",
       "      <th>3</th>\n",
       "      <td>land rover</td>\n",
       "      <td>Coimbatore</td>\n",
       "      <td>2008</td>\n",
       "      <td>69078</td>\n",
       "      <td>Petrol</td>\n",
       "      <td>Manual</td>\n",
       "      <td>First</td>\n",
       "      <td>12.893137</td>\n",
       "      <td>2475.719298</td>\n",
       "      <td>189.602105</td>\n",
       "      <td>7.0</td>\n",
       "      <td>40.88</td>\n",
       "    </tr>\n",
       "    <tr>\n",
       "      <th>4</th>\n",
       "      <td>hyundai santro</td>\n",
       "      <td>Coimbatore</td>\n",
       "      <td>2004</td>\n",
       "      <td>52146</td>\n",
       "      <td>Petrol</td>\n",
       "      <td>Manual</td>\n",
       "      <td>First</td>\n",
       "      <td>17.472857</td>\n",
       "      <td>1076.910448</td>\n",
       "      <td>62.300000</td>\n",
       "      <td>5.0</td>\n",
       "      <td>1.93</td>\n",
       "    </tr>\n",
       "  </tbody>\n",
       "</table>\n",
       "</div>"
      ],
      "text/plain": [
       "             Name    Location  Year  Kilometers_Driven Fuel_Type Transmission  \\\n",
       "0      honda city   Ahmedabad  2007              60006    Petrol       Manual   \n",
       "1      land rover      Mumbai  2008              55001    Diesel    Automatic   \n",
       "2      honda city        Pune  2004             115000    Petrol       Manual   \n",
       "3      land rover  Coimbatore  2008              69078    Petrol       Manual   \n",
       "4  hyundai santro  Coimbatore  2004              52146    Petrol       Manual   \n",
       "\n",
       "       Owner_Type    Mileage       Engine       Power  Seats  Price  \n",
       "0           First  18.420225  1494.718045  110.782707    5.0   2.95  \n",
       "1  Second & above  12.893137  2475.719298  189.602105    7.0  26.50  \n",
       "2  Second & above  18.420225  1494.718045  110.782707    5.0   1.50  \n",
       "3           First  12.893137  2475.719298  189.602105    7.0  40.88  \n",
       "4           First  17.472857  1076.910448   62.300000    5.0   1.93  "
      ]
     },
     "execution_count": 108,
     "metadata": {},
     "output_type": "execute_result"
    }
   ],
   "source": [
    "df8 = pd.concat((df7_s0,df7_s1) , ignore_index=True)\n",
    "df8.head()"
   ]
  },
  {
   "cell_type": "code",
   "execution_count": 109,
   "metadata": {
    "colab": {
     "base_uri": "https://localhost:8080/"
    },
    "id": "fvGf2Q0SOnvr",
    "outputId": "78941d17-f468-4017-a38a-fc4552ae3c3e"
   },
   "outputs": [
    {
     "data": {
      "text/plain": [
       "Name                 0\n",
       "Location             0\n",
       "Year                 0\n",
       "Kilometers_Driven    0\n",
       "Fuel_Type            0\n",
       "Transmission         0\n",
       "Owner_Type           0\n",
       "Mileage              0\n",
       "Engine               0\n",
       "Power                0\n",
       "Seats                0\n",
       "Price                0\n",
       "dtype: int64"
      ]
     },
     "execution_count": 109,
     "metadata": {},
     "output_type": "execute_result"
    }
   ],
   "source": [
    "df8.isnull().sum()"
   ]
  },
  {
   "cell_type": "code",
   "execution_count": 110,
   "metadata": {
    "colab": {
     "base_uri": "https://localhost:8080/",
     "height": 469
    },
    "id": "__--NXHbOqXK",
    "outputId": "27dd8e46-1926-448d-adc8-c52c35d53c8b"
   },
   "outputs": [
    {
     "data": {
      "text/plain": [
       "<AxesSubplot:xlabel='Fuel_Type', ylabel='Mileage'>"
      ]
     },
     "execution_count": 110,
     "metadata": {},
     "output_type": "execute_result"
    },
    {
     "data": {
      "image/png": "[encoded data removed]",
      "text/plain": [
       "<Figure size 432x288 with 1 Axes>"
      ]
     },
     "metadata": {
      "needs_background": "light"
     },
     "output_type": "display_data"
    }
   ],
   "source": [
    "sns.boxplot(x = 'Fuel_Type' , y = 'Mileage' , data=df8)"
   ]
  },
  {
   "cell_type": "code",
   "execution_count": 111,
   "metadata": {
    "colab": {
     "base_uri": "https://localhost:8080/",
     "height": 470
    },
    "id": "oeen-5DGOwQs",
    "outputId": "22f7e607-db84-453d-c424-e649b535b803"
   },
   "outputs": [
    {
     "data": {
      "text/plain": [
       "<AxesSubplot:xlabel='Fuel_Type', ylabel='Engine'>"
      ]
     },
     "execution_count": 111,
     "metadata": {},
     "output_type": "execute_result"
    },
    {
     "data": {
      "image/png": "[encoded data removed]",
      "text/plain": [
       "<Figure size 432x288 with 1 Axes>"
      ]
     },
     "metadata": {
      "needs_background": "light"
     },
     "output_type": "display_data"
    }
   ],
   "source": [
    "sns.boxplot(x = 'Fuel_Type' , y = 'Engine' , data=df8)"
   ]
  },
  {
   "cell_type": "code",
   "execution_count": 112,
   "metadata": {
    "colab": {
     "base_uri": "https://localhost:8080/",
     "height": 469
    },
    "id": "rcEPEEr1O0NF",
    "outputId": "632ef420-7ecb-49fa-d79e-968a7ca2b999"
   },
   "outputs": [
    {
     "data": {
      "text/plain": [
       "<AxesSubplot:xlabel='Fuel_Type', ylabel='Power'>"
      ]
     },
     "execution_count": 112,
     "metadata": {},
     "output_type": "execute_result"
    },
    {
     "data": {
      "image/png": "[encoded data removed]",
      "text/plain": [
       "<Figure size 432x288 with 1 Axes>"
      ]
     },
     "metadata": {
      "needs_background": "light"
     },
     "output_type": "display_data"
    }
   ],
   "source": [
    "sns.boxplot(x = 'Fuel_Type' , y = 'Power' , data=df8)"
   ]
  },
  {
   "cell_type": "code",
   "execution_count": 113,
   "metadata": {
    "colab": {
     "base_uri": "https://localhost:8080/",
     "height": 302
    },
    "id": "MLfrCx5OO7-h",
    "outputId": "dc3451aa-47fa-4961-c01a-9cc3fba8c74c"
   },
   "outputs": [
    {
     "data": {
      "text/html": [
       "<div>\n",
       "<style scoped>\n",
       "    .dataframe tbody tr th:only-of-type {\n",
       "        vertical-align: middle;\n",
       "    }\n",
       "\n",
       "    .dataframe tbody tr th {\n",
       "        vertical-align: top;\n",
       "    }\n",
       "\n",
       "    .dataframe thead th {\n",
       "        text-align: right;\n",
       "    }\n",
       "</style>\n",
       "<table border=\"1\" class=\"dataframe\">\n",
       "  <thead>\n",
       "    <tr style=\"text-align: right;\">\n",
       "      <th></th>\n",
       "      <th>Name</th>\n",
       "      <th>Location</th>\n",
       "      <th>Year</th>\n",
       "      <th>Kilometers_Driven</th>\n",
       "      <th>Fuel_Type</th>\n",
       "      <th>Transmission</th>\n",
       "      <th>Owner_Type</th>\n",
       "      <th>Mileage</th>\n",
       "      <th>Engine</th>\n",
       "      <th>Power</th>\n",
       "      <th>Seats</th>\n",
       "      <th>Price</th>\n",
       "    </tr>\n",
       "  </thead>\n",
       "  <tbody>\n",
       "    <tr>\n",
       "      <th>0</th>\n",
       "      <td>honda city</td>\n",
       "      <td>Ahmedabad</td>\n",
       "      <td>2007</td>\n",
       "      <td>60006</td>\n",
       "      <td>Petrol</td>\n",
       "      <td>Manual</td>\n",
       "      <td>First</td>\n",
       "      <td>18.420225</td>\n",
       "      <td>1494.718045</td>\n",
       "      <td>110.782707</td>\n",
       "      <td>5.0</td>\n",
       "      <td>2.95</td>\n",
       "    </tr>\n",
       "    <tr>\n",
       "      <th>1</th>\n",
       "      <td>land rover</td>\n",
       "      <td>Mumbai</td>\n",
       "      <td>2008</td>\n",
       "      <td>55001</td>\n",
       "      <td>Diesel</td>\n",
       "      <td>Automatic</td>\n",
       "      <td>Second &amp; above</td>\n",
       "      <td>12.893137</td>\n",
       "      <td>2475.719298</td>\n",
       "      <td>189.602105</td>\n",
       "      <td>7.0</td>\n",
       "      <td>26.50</td>\n",
       "    </tr>\n",
       "    <tr>\n",
       "      <th>2</th>\n",
       "      <td>honda city</td>\n",
       "      <td>Pune</td>\n",
       "      <td>2004</td>\n",
       "      <td>115000</td>\n",
       "      <td>Petrol</td>\n",
       "      <td>Manual</td>\n",
       "      <td>Second &amp; above</td>\n",
       "      <td>18.420225</td>\n",
       "      <td>1494.718045</td>\n",
       "      <td>110.782707</td>\n",
       "      <td>5.0</td>\n",
       "      <td>1.50</td>\n",
       "    </tr>\n",
       "    <tr>\n",
       "      <th>3</th>\n",
       "      <td>land rover</td>\n",
       "      <td>Coimbatore</td>\n",
       "      <td>2008</td>\n",
       "      <td>69078</td>\n",
       "      <td>Petrol</td>\n",
       "      <td>Manual</td>\n",
       "      <td>First</td>\n",
       "      <td>12.893137</td>\n",
       "      <td>2475.719298</td>\n",
       "      <td>189.602105</td>\n",
       "      <td>7.0</td>\n",
       "      <td>40.88</td>\n",
       "    </tr>\n",
       "    <tr>\n",
       "      <th>4</th>\n",
       "      <td>hyundai santro</td>\n",
       "      <td>Coimbatore</td>\n",
       "      <td>2004</td>\n",
       "      <td>52146</td>\n",
       "      <td>Petrol</td>\n",
       "      <td>Manual</td>\n",
       "      <td>First</td>\n",
       "      <td>17.472857</td>\n",
       "      <td>1076.910448</td>\n",
       "      <td>62.300000</td>\n",
       "      <td>5.0</td>\n",
       "      <td>1.93</td>\n",
       "    </tr>\n",
       "  </tbody>\n",
       "</table>\n",
       "</div>"
      ],
      "text/plain": [
       "             Name    Location  Year  Kilometers_Driven Fuel_Type Transmission  \\\n",
       "0      honda city   Ahmedabad  2007              60006    Petrol       Manual   \n",
       "1      land rover      Mumbai  2008              55001    Diesel    Automatic   \n",
       "2      honda city        Pune  2004             115000    Petrol       Manual   \n",
       "3      land rover  Coimbatore  2008              69078    Petrol       Manual   \n",
       "4  hyundai santro  Coimbatore  2004              52146    Petrol       Manual   \n",
       "\n",
       "       Owner_Type    Mileage       Engine       Power  Seats  Price  \n",
       "0           First  18.420225  1494.718045  110.782707    5.0   2.95  \n",
       "1  Second & above  12.893137  2475.719298  189.602105    7.0  26.50  \n",
       "2  Second & above  18.420225  1494.718045  110.782707    5.0   1.50  \n",
       "3           First  12.893137  2475.719298  189.602105    7.0  40.88  \n",
       "4           First  17.472857  1076.910448   62.300000    5.0   1.93  "
      ]
     },
     "execution_count": 113,
     "metadata": {},
     "output_type": "execute_result"
    }
   ],
   "source": [
    "df8.head()"
   ]
  },
  {
   "cell_type": "code",
   "execution_count": 114,
   "metadata": {
    "id": "yxnWLNWpPZs8"
   },
   "outputs": [],
   "source": [
    "df8['Year'] = 2023 - df8['Year']"
   ]
  },
  {
   "cell_type": "code",
   "execution_count": 115,
   "metadata": {
    "colab": {
     "base_uri": "https://localhost:8080/",
     "height": 302
    },
    "id": "L60xbTfXPhS0",
    "outputId": "9295f588-1e07-4a0d-d90c-1d9f0bdcf75b"
   },
   "outputs": [
    {
     "data": {
      "text/html": [
       "<div>\n",
       "<style scoped>\n",
       "    .dataframe tbody tr th:only-of-type {\n",
       "        vertical-align: middle;\n",
       "    }\n",
       "\n",
       "    .dataframe tbody tr th {\n",
       "        vertical-align: top;\n",
       "    }\n",
       "\n",
       "    .dataframe thead th {\n",
       "        text-align: right;\n",
       "    }\n",
       "</style>\n",
       "<table border=\"1\" class=\"dataframe\">\n",
       "  <thead>\n",
       "    <tr style=\"text-align: right;\">\n",
       "      <th></th>\n",
       "      <th>Name</th>\n",
       "      <th>Location</th>\n",
       "      <th>Year</th>\n",
       "      <th>Kilometers_Driven</th>\n",
       "      <th>Fuel_Type</th>\n",
       "      <th>Transmission</th>\n",
       "      <th>Owner_Type</th>\n",
       "      <th>Mileage</th>\n",
       "      <th>Engine</th>\n",
       "      <th>Power</th>\n",
       "      <th>Seats</th>\n",
       "      <th>Price</th>\n",
       "    </tr>\n",
       "  </thead>\n",
       "  <tbody>\n",
       "    <tr>\n",
       "      <th>0</th>\n",
       "      <td>honda city</td>\n",
       "      <td>Ahmedabad</td>\n",
       "      <td>16</td>\n",
       "      <td>60006</td>\n",
       "      <td>Petrol</td>\n",
       "      <td>Manual</td>\n",
       "      <td>First</td>\n",
       "      <td>18.420225</td>\n",
       "      <td>1494.718045</td>\n",
       "      <td>110.782707</td>\n",
       "      <td>5.0</td>\n",
       "      <td>2.95</td>\n",
       "    </tr>\n",
       "    <tr>\n",
       "      <th>1</th>\n",
       "      <td>land rover</td>\n",
       "      <td>Mumbai</td>\n",
       "      <td>15</td>\n",
       "      <td>55001</td>\n",
       "      <td>Diesel</td>\n",
       "      <td>Automatic</td>\n",
       "      <td>Second &amp; above</td>\n",
       "      <td>12.893137</td>\n",
       "      <td>2475.719298</td>\n",
       "      <td>189.602105</td>\n",
       "      <td>7.0</td>\n",
       "      <td>26.50</td>\n",
       "    </tr>\n",
       "    <tr>\n",
       "      <th>2</th>\n",
       "      <td>honda city</td>\n",
       "      <td>Pune</td>\n",
       "      <td>19</td>\n",
       "      <td>115000</td>\n",
       "      <td>Petrol</td>\n",
       "      <td>Manual</td>\n",
       "      <td>Second &amp; above</td>\n",
       "      <td>18.420225</td>\n",
       "      <td>1494.718045</td>\n",
       "      <td>110.782707</td>\n",
       "      <td>5.0</td>\n",
       "      <td>1.50</td>\n",
       "    </tr>\n",
       "    <tr>\n",
       "      <th>3</th>\n",
       "      <td>land rover</td>\n",
       "      <td>Coimbatore</td>\n",
       "      <td>15</td>\n",
       "      <td>69078</td>\n",
       "      <td>Petrol</td>\n",
       "      <td>Manual</td>\n",
       "      <td>First</td>\n",
       "      <td>12.893137</td>\n",
       "      <td>2475.719298</td>\n",
       "      <td>189.602105</td>\n",
       "      <td>7.0</td>\n",
       "      <td>40.88</td>\n",
       "    </tr>\n",
       "    <tr>\n",
       "      <th>4</th>\n",
       "      <td>hyundai santro</td>\n",
       "      <td>Coimbatore</td>\n",
       "      <td>19</td>\n",
       "      <td>52146</td>\n",
       "      <td>Petrol</td>\n",
       "      <td>Manual</td>\n",
       "      <td>First</td>\n",
       "      <td>17.472857</td>\n",
       "      <td>1076.910448</td>\n",
       "      <td>62.300000</td>\n",
       "      <td>5.0</td>\n",
       "      <td>1.93</td>\n",
       "    </tr>\n",
       "  </tbody>\n",
       "</table>\n",
       "</div>"
      ],
      "text/plain": [
       "             Name    Location  Year  Kilometers_Driven Fuel_Type Transmission  \\\n",
       "0      honda city   Ahmedabad    16              60006    Petrol       Manual   \n",
       "1      land rover      Mumbai    15              55001    Diesel    Automatic   \n",
       "2      honda city        Pune    19             115000    Petrol       Manual   \n",
       "3      land rover  Coimbatore    15              69078    Petrol       Manual   \n",
       "4  hyundai santro  Coimbatore    19              52146    Petrol       Manual   \n",
       "\n",
       "       Owner_Type    Mileage       Engine       Power  Seats  Price  \n",
       "0           First  18.420225  1494.718045  110.782707    5.0   2.95  \n",
       "1  Second & above  12.893137  2475.719298  189.602105    7.0  26.50  \n",
       "2  Second & above  18.420225  1494.718045  110.782707    5.0   1.50  \n",
       "3           First  12.893137  2475.719298  189.602105    7.0  40.88  \n",
       "4           First  17.472857  1076.910448   62.300000    5.0   1.93  "
      ]
     },
     "execution_count": 115,
     "metadata": {},
     "output_type": "execute_result"
    }
   ],
   "source": [
    "df8.head()"
   ]
  },
  {
   "cell_type": "code",
   "execution_count": null,
   "metadata": {
    "id": "x27g0bTyPidh"
   },
   "outputs": [],
   "source": []
  }
 ],
 "metadata": {
  "colab": {
   "provenance": []
  },
  "kernelspec": {
   "display_name": "Python 3 (ipykernel)",
   "language": "python",
   "name": "python3"
  },
  "language_info": {
   "codemirror_mode": {
    "name": "ipython",
    "version": 3
   },
   "file_extension": ".py",
   "mimetype": "text/x-python",
   "name": "python",
   "nbconvert_exporter": "python",
   "pygments_lexer": "ipython3",
   "version": "3.9.12"
  }
 },
 "nbformat": 4,
 "nbformat_minor": 1
}
